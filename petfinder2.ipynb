{
 "cells": [
  {
   "cell_type": "markdown",
   "metadata": {
    "id": "g3YDQH4n9zdG"
   },
   "source": [
    "# 📔 About this notebook\n",
    "\n",
    "PetFinder.my - Pawpularity Contest\n",
    "\n"
   ]
  },
  {
   "cell_type": "markdown",
   "metadata": {
    "id": "lK0pnACt-CQd"
   },
   "source": [
    "## 📝 Memo"
   ]
  },
  {
   "cell_type": "markdown",
   "metadata": {
    "id": "eezrDVYa_yav"
   },
   "source": [
    "# 📚 Library"
   ]
  },
  {
   "cell_type": "code",
   "execution_count": 1,
   "metadata": {
    "executionInfo": {
     "elapsed": 3282,
     "status": "ok",
     "timestamp": 1633394791716,
     "user": {
      "displayName": "Yoshio S",
      "photoUrl": "https://lh3.googleusercontent.com/a/default-user=s64",
      "userId": "02953556559298393836"
     },
     "user_tz": -540
    },
    "id": "32GYVF3l_wUO"
   },
   "outputs": [],
   "source": [
    "# General libraries\n",
    "import collections\n",
    "import gc\n",
    "import glob\n",
    "import json\n",
    "import math\n",
    "import os\n",
    "import random\n",
    "import re\n",
    "import statistics\n",
    "import sys\n",
    "import time\n",
    "import warnings\n",
    "from contextlib import contextmanager\n",
    "\n",
    "import matplotlib.pyplot as plt\n",
    "import numpy as np\n",
    "import pandas as pd\n",
    "import scipy as sp\n",
    "import seaborn as sns\n",
    "import torch\n",
    "import torch.cuda.amp as amp\n",
    "import torch.nn as nn\n",
    "import torch.nn.functional as F\n",
    "import wandb\n",
    "from cosine_annealing_warmup import CosineAnnealingWarmupRestarts\n",
    "\n",
    "# from iterstrat.ml_stratifiers import MultilabelStratifiedKFold\n",
    "from sklearn.metrics import accuracy_score, mean_squared_error\n",
    "from sklearn.model_selection import KFold, StratifiedKFold\n",
    "from torch.optim import SGD, Adam\n",
    "from torch.optim.lr_scheduler import CosineAnnealingLR, CosineAnnealingWarmRestarts\n",
    "from torch.utils.data import DataLoader, Dataset\n",
    "from tqdm.notebook import tqdm"
   ]
  },
  {
   "cell_type": "code",
   "execution_count": 2,
   "metadata": {
    "executionInfo": {
     "elapsed": 1153,
     "status": "ok",
     "timestamp": 1633394792859,
     "user": {
      "displayName": "Yoshio S",
      "photoUrl": "https://lh3.googleusercontent.com/a/default-user=s64",
      "userId": "02953556559298393836"
     },
     "user_tz": -540
    },
    "id": "DhlpmaPbNqOs"
   },
   "outputs": [],
   "source": [
    "# Competition specific libraries\n",
    "import albumentations as A\n",
    "import cv2\n",
    "import timm\n",
    "from albumentations.pytorch import ToTensorV2"
   ]
  },
  {
   "cell_type": "code",
   "execution_count": 3,
   "metadata": {
    "executionInfo": {
     "elapsed": 6,
     "status": "ok",
     "timestamp": 1633394792860,
     "user": {
      "displayName": "Yoshio S",
      "photoUrl": "https://lh3.googleusercontent.com/a/default-user=s64",
      "userId": "02953556559298393836"
     },
     "user_tz": -540
    },
    "id": "qPMtyPp8AWvZ"
   },
   "outputs": [],
   "source": [
    "warnings.filterwarnings(\"ignore\")"
   ]
  },
  {
   "cell_type": "code",
   "execution_count": 4,
   "metadata": {
    "colab": {
     "base_uri": "https://localhost:8080/"
    },
    "executionInfo": {
     "elapsed": 2322,
     "status": "ok",
     "timestamp": 1633394795177,
     "user": {
      "displayName": "Yoshio S",
      "photoUrl": "https://lh3.googleusercontent.com/a/default-user=s64",
      "userId": "02953556559298393836"
     },
     "user_tz": -540
    },
    "id": "ZHMIcuPvAdZI",
    "outputId": "8b28afb5-3466-40d4-9d0f-7a7a43f786b1"
   },
   "outputs": [
    {
     "name": "stdout",
     "output_type": "stream",
     "text": [
      "\u001b[34m\u001b[1mwandb\u001b[0m: Currently logged in as: \u001b[33mimokuri\u001b[0m (use `wandb login --relogin` to force relogin)\n"
     ]
    }
   ],
   "source": [
    "# netrc = \"/content/drive/MyDrive/.netrc\" if 'google.colab' in sys.modules else \"../input/wandbtoken/.netrc\"\n",
    "# !cp -f {netrc} ~/\n",
    "!wandb login\n",
    "wandb_tags = []"
   ]
  },
  {
   "cell_type": "code",
   "execution_count": 5,
   "metadata": {
    "executionInfo": {
     "elapsed": 20,
     "status": "ok",
     "timestamp": 1633394795177,
     "user": {
      "displayName": "Yoshio S",
      "photoUrl": "https://lh3.googleusercontent.com/a/default-user=s64",
      "userId": "02953556559298393836"
     },
     "user_tz": -540
    },
    "id": "KPb3f6kLAYrP"
   },
   "outputs": [],
   "source": [
    "device = torch.device(\"cuda\" if torch.cuda.is_available() else \"cpu\")"
   ]
  },
  {
   "cell_type": "markdown",
   "metadata": {
    "id": "m9uOtCk2BKGF"
   },
   "source": [
    "# Load Data"
   ]
  },
  {
   "cell_type": "code",
   "execution_count": 6,
   "metadata": {
    "executionInfo": {
     "elapsed": 21,
     "status": "ok",
     "timestamp": 1633394795178,
     "user": {
      "displayName": "Yoshio S",
      "photoUrl": "https://lh3.googleusercontent.com/a/default-user=s64",
      "userId": "02953556559298393836"
     },
     "user_tz": -540
    },
    "id": "m4LaDlPJBLil"
   },
   "outputs": [],
   "source": [
    "DATA_DIR = \"../input/petfinder-pawpularity-score/\"\n",
    "OUTPUT_DIR = \"./\"\n",
    "MODEL_DIR = \"./models/\"\n",
    "\n",
    "!rm -rf {MODEL_DIR}\n",
    "\n",
    "os.makedirs(OUTPUT_DIR, exist_ok=True)\n",
    "os.makedirs(MODEL_DIR, exist_ok=True)"
   ]
  },
  {
   "cell_type": "code",
   "execution_count": 7,
   "metadata": {
    "executionInfo": {
     "elapsed": 20,
     "status": "ok",
     "timestamp": 1633394795178,
     "user": {
      "displayName": "Yoshio S",
      "photoUrl": "https://lh3.googleusercontent.com/a/default-user=s64",
      "userId": "02953556559298393836"
     },
     "user_tz": -540
    },
    "id": "xKKkrScBBf44"
   },
   "outputs": [],
   "source": [
    "train = pd.read_csv(DATA_DIR + \"train.csv\")\n",
    "test = pd.read_csv(DATA_DIR + \"test.csv\")\n",
    "sub = pd.read_csv(DATA_DIR + \"sample_submission.csv\")\n",
    "\n",
    "# TRAIN_IMAGE_PATH = DATA_DIR + \"train/\"\n",
    "TRAIN_IMAGE_PATH = DATA_DIR + \"crop/\"\n",
    "TEST_IMAGE_PATH = DATA_DIR + \"test/\""
   ]
  },
  {
   "cell_type": "markdown",
   "metadata": {
    "id": "DQk8_n-5Bwun"
   },
   "source": [
    "# 🤔 Config"
   ]
  },
  {
   "cell_type": "code",
   "execution_count": 8,
   "metadata": {
    "colab": {
     "base_uri": "https://localhost:8080/"
    },
    "executionInfo": {
     "elapsed": 20,
     "status": "ok",
     "timestamp": 1633394795179,
     "user": {
      "displayName": "Yoshio S",
      "photoUrl": "https://lh3.googleusercontent.com/a/default-user=s64",
      "userId": "02953556559298393836"
     },
     "user_tz": -540
    },
    "id": "HfK7G4EQBxpt",
    "outputId": "266be0c6-6b79-4de4-8de1-8502eb577dc2"
   },
   "outputs": [
    {
     "name": "stdout",
     "output_type": "stream",
     "text": [
      "440\n"
     ]
    }
   ],
   "source": [
    "# seed = random.randrange(10000)\n",
    "seed = 440\n",
    "print(seed)"
   ]
  },
  {
   "cell_type": "code",
   "execution_count": 9,
   "metadata": {
    "executionInfo": {
     "elapsed": 15,
     "status": "ok",
     "timestamp": 1633394795179,
     "user": {
      "displayName": "Yoshio S",
      "photoUrl": "https://lh3.googleusercontent.com/a/default-user=s64",
      "userId": "02953556559298393836"
     },
     "user_tz": -540
    },
    "id": "STqXGbUhBz5f"
   },
   "outputs": [],
   "source": [
    "class Config:\n",
    "    wandb_entity = \"imokuri\"\n",
    "    wandb_project = \"petfinder2\"\n",
    "    print_freq = 100\n",
    "\n",
    "    train = True\n",
    "    validate = False\n",
    "    inference = False\n",
    "\n",
    "    debug = False\n",
    "    num_debug_data = 1000\n",
    "\n",
    "    amp = True\n",
    "    multi_gpu = True"
   ]
  },
  {
   "cell_type": "markdown",
   "metadata": {
    "id": "rAK99CZOhfMV"
   },
   "source": [
    "Model list\n",
    "\n",
    "- resnext50_32x4d\n",
    "- vit_base_patch16_384\n",
    "- tf_efficientnetv2_m_in21k\n",
    "- swin_base_patch4_window12_384"
   ]
  },
  {
   "cell_type": "code",
   "execution_count": 10,
   "metadata": {
    "executionInfo": {
     "elapsed": 16,
     "status": "ok",
     "timestamp": 1633394795180,
     "user": {
      "displayName": "Yoshio S",
      "photoUrl": "https://lh3.googleusercontent.com/a/default-user=s64",
      "userId": "02953556559298393836"
     },
     "user_tz": -540
    },
    "id": "Vjl7MQHiFyFS"
   },
   "outputs": [],
   "source": [
    "config_defaults = {\n",
    "    \"seed\": seed,\n",
    "    \"n_class\": 1,\n",
    "    \"n_fold\": 10,\n",
    "    \"epochs\": 20,\n",
    "    \"es_patience\": 10,\n",
    "    \"batch_size\": 64,\n",
    "    \"gradient_accumulation_steps\": 1,\n",
    "    \"max_grad_norm\": 1000,\n",
    "    \"criterion\": \"BCEWithLogitsLoss\",\n",
    "    \"optimizer\": \"Adam\",\n",
    "    \"scheduler\": \"CosineAnnealingWarmRestarts\",\n",
    "    \"lr\": 1e-5,\n",
    "    \"min_lr\": 1e-6,\n",
    "    \"weight_decay\": 1e-7,\n",
    "    \"model_name\": \"swin_large_patch4_window12_384_in22k\",\n",
    "    \"size\": 384,\n",
    "}"
   ]
  },
  {
   "cell_type": "code",
   "execution_count": 11,
   "metadata": {
    "executionInfo": {
     "elapsed": 15,
     "status": "ok",
     "timestamp": 1633394795180,
     "user": {
      "displayName": "Yoshio S",
      "photoUrl": "https://lh3.googleusercontent.com/a/default-user=s64",
      "userId": "02953556559298393836"
     },
     "user_tz": -540
    },
    "id": "dgConxiYIqTM"
   },
   "outputs": [],
   "source": [
    "if Config.debug:\n",
    "    config_defaults[\"n_fold\"] = 3\n",
    "    config_defaults[\"epochs\"] = 1\n",
    "    Config.print_freq = 10"
   ]
  },
  {
   "cell_type": "code",
   "execution_count": 12,
   "metadata": {
    "executionInfo": {
     "elapsed": 16,
     "status": "ok",
     "timestamp": 1633394795181,
     "user": {
      "displayName": "Yoshio S",
      "photoUrl": "https://lh3.googleusercontent.com/a/default-user=s64",
      "userId": "02953556559298393836"
     },
     "user_tz": -540
    },
    "id": "BteR9_gVItes"
   },
   "outputs": [],
   "source": [
    "if Config.train:\n",
    "    wandb_job_type = \"training\"\n",
    "\n",
    "elif Config.inference:\n",
    "    wandb_job_type = \"inference\"\n",
    "\n",
    "elif Config.validate:\n",
    "    wandb_job_type = \"validation\"\n",
    "\n",
    "else:\n",
    "    wandb_job_type = \"\""
   ]
  },
  {
   "cell_type": "code",
   "execution_count": 13,
   "metadata": {
    "executionInfo": {
     "elapsed": 16,
     "status": "ok",
     "timestamp": 1633394795181,
     "user": {
      "displayName": "Yoshio S",
      "photoUrl": "https://lh3.googleusercontent.com/a/default-user=s64",
      "userId": "02953556559298393836"
     },
     "user_tz": -540
    },
    "id": "wBSFI0-_XL_-"
   },
   "outputs": [],
   "source": [
    "if Config.debug:\n",
    "    wandb_tags.append(\"debug\")\n",
    "\n",
    "# if Config.amp:\n",
    "#     wandb_tags.append(\"amp\")"
   ]
  },
  {
   "cell_type": "code",
   "execution_count": 14,
   "metadata": {
    "executionInfo": {
     "elapsed": 15,
     "status": "ok",
     "timestamp": 1633394795181,
     "user": {
      "displayName": "Yoshio S",
      "photoUrl": "https://lh3.googleusercontent.com/a/default-user=s64",
      "userId": "02953556559298393836"
     },
     "user_tz": -540
    },
    "id": "LIDKN-b7jDOt"
   },
   "outputs": [],
   "source": [
    "# wandb_tags.append(\"feats\")\n",
    "wandb_tags.append(\"bins kfold\")\n",
    "wandb_tags.append(\"basic aug\")\n",
    "# wandb_tags.append(\"heavy aug\")\n",
    "# wandb_tags.append(\"mixup\")\n",
    "# wandb_tags.append(\"freeze norm\")"
   ]
  },
  {
   "cell_type": "code",
   "execution_count": 15,
   "metadata": {
    "executionInfo": {
     "elapsed": 1612,
     "status": "ok",
     "timestamp": 1633394796778,
     "user": {
      "displayName": "Yoshio S",
      "photoUrl": "https://lh3.googleusercontent.com/a/default-user=s64",
      "userId": "02953556559298393836"
     },
     "user_tz": -540
    },
    "id": "JaQsAlSfJbnt"
   },
   "outputs": [
    {
     "name": "stderr",
     "output_type": "stream",
     "text": [
      "Failed to detect the name of this notebook, you can set it manually with the WANDB_NOTEBOOK_NAME environment variable to enable code saving.\n",
      "\u001b[34m\u001b[1mwandb\u001b[0m: Currently logged in as: \u001b[33mimokuri\u001b[0m (use `wandb login --relogin` to force relogin)\n"
     ]
    },
    {
     "data": {
      "text/html": [
       "\n",
       "                    Syncing run <strong><a href=\"https://wandb.ai/imokuri/petfinder2/runs/tzd6gqud\" target=\"_blank\">lyric-snowflake-33</a></strong> to <a href=\"https://wandb.ai/imokuri/petfinder2\" target=\"_blank\">Weights & Biases</a> (<a href=\"https://docs.wandb.com/integrations/jupyter.html\" target=\"_blank\">docs</a>).<br/>\n",
       "\n",
       "                "
      ],
      "text/plain": [
       "<IPython.core.display.HTML object>"
      ]
     },
     "metadata": {},
     "output_type": "display_data"
    }
   ],
   "source": [
    "if Config.debug:\n",
    "    run = wandb.init(\n",
    "        entity=Config.wandb_entity,\n",
    "        project=Config.wandb_project,\n",
    "        config=config_defaults,\n",
    "        tags=wandb_tags,\n",
    "        mode=\"disabled\",\n",
    "    )\n",
    "else:\n",
    "    run = wandb.init(\n",
    "        entity=Config.wandb_entity,\n",
    "        project=Config.wandb_project,\n",
    "        config=config_defaults,\n",
    "        job_type=wandb_job_type,\n",
    "        tags=wandb_tags,\n",
    "        save_code=True,\n",
    "    )"
   ]
  },
  {
   "cell_type": "code",
   "execution_count": 16,
   "metadata": {
    "executionInfo": {
     "elapsed": 27,
     "status": "ok",
     "timestamp": 1633394796783,
     "user": {
      "displayName": "Yoshio S",
      "photoUrl": "https://lh3.googleusercontent.com/a/default-user=s64",
      "userId": "02953556559298393836"
     },
     "user_tz": -540
    },
    "id": "0kD8_kP0JjAC"
   },
   "outputs": [],
   "source": [
    "config = wandb.config"
   ]
  },
  {
   "cell_type": "markdown",
   "metadata": {
    "id": "bYjWTUW9Jtem"
   },
   "source": [
    "# EDA 1"
   ]
  },
  {
   "cell_type": "code",
   "execution_count": 17,
   "metadata": {
    "colab": {
     "base_uri": "https://localhost:8080/",
     "height": 1000
    },
    "executionInfo": {
     "elapsed": 22,
     "status": "ok",
     "timestamp": 1633394796784,
     "user": {
      "displayName": "Yoshio S",
      "photoUrl": "https://lh3.googleusercontent.com/a/default-user=s64",
      "userId": "02953556559298393836"
     },
     "user_tz": -540
    },
    "id": "-dEUJ_P9Jwzw",
    "outputId": "f98c8f40-5d7e-43f5-f524-58129cd3c758"
   },
   "outputs": [
    {
     "name": "stdout",
     "output_type": "stream",
     "text": [
      "========================================================================================================================\n",
      "<class 'pandas.core.frame.DataFrame'>\n",
      "RangeIndex: 9912 entries, 0 to 9911\n",
      "Data columns (total 14 columns):\n",
      " #   Column         Non-Null Count  Dtype \n",
      "---  ------         --------------  ----- \n",
      " 0   Id             9912 non-null   object\n",
      " 1   Subject Focus  9912 non-null   int64 \n",
      " 2   Eyes           9912 non-null   int64 \n",
      " 3   Face           9912 non-null   int64 \n",
      " 4   Near           9912 non-null   int64 \n",
      " 5   Action         9912 non-null   int64 \n",
      " 6   Accessory      9912 non-null   int64 \n",
      " 7   Group          9912 non-null   int64 \n",
      " 8   Collage        9912 non-null   int64 \n",
      " 9   Human          9912 non-null   int64 \n",
      " 10  Occlusion      9912 non-null   int64 \n",
      " 11  Info           9912 non-null   int64 \n",
      " 12  Blur           9912 non-null   int64 \n",
      " 13  Pawpularity    9912 non-null   int64 \n",
      "dtypes: int64(13), object(1)\n",
      "memory usage: 1.1+ MB\n"
     ]
    },
    {
     "data": {
      "text/html": [
       "<div>\n",
       "<style scoped>\n",
       "    .dataframe tbody tr th:only-of-type {\n",
       "        vertical-align: middle;\n",
       "    }\n",
       "\n",
       "    .dataframe tbody tr th {\n",
       "        vertical-align: top;\n",
       "    }\n",
       "\n",
       "    .dataframe thead th {\n",
       "        text-align: right;\n",
       "    }\n",
       "</style>\n",
       "<table border=\"1\" class=\"dataframe\">\n",
       "  <thead>\n",
       "    <tr style=\"text-align: right;\">\n",
       "      <th></th>\n",
       "      <th>Id</th>\n",
       "      <th>Subject Focus</th>\n",
       "      <th>Eyes</th>\n",
       "      <th>Face</th>\n",
       "      <th>Near</th>\n",
       "      <th>Action</th>\n",
       "      <th>Accessory</th>\n",
       "      <th>Group</th>\n",
       "      <th>Collage</th>\n",
       "      <th>Human</th>\n",
       "      <th>Occlusion</th>\n",
       "      <th>Info</th>\n",
       "      <th>Blur</th>\n",
       "      <th>Pawpularity</th>\n",
       "    </tr>\n",
       "  </thead>\n",
       "  <tbody>\n",
       "    <tr>\n",
       "      <th>0</th>\n",
       "      <td>0007de18844b0dbbb5e1f607da0606e0</td>\n",
       "      <td>0</td>\n",
       "      <td>1</td>\n",
       "      <td>1</td>\n",
       "      <td>1</td>\n",
       "      <td>0</td>\n",
       "      <td>0</td>\n",
       "      <td>1</td>\n",
       "      <td>0</td>\n",
       "      <td>0</td>\n",
       "      <td>0</td>\n",
       "      <td>0</td>\n",
       "      <td>0</td>\n",
       "      <td>63</td>\n",
       "    </tr>\n",
       "    <tr>\n",
       "      <th>1</th>\n",
       "      <td>0009c66b9439883ba2750fb825e1d7db</td>\n",
       "      <td>0</td>\n",
       "      <td>1</td>\n",
       "      <td>1</td>\n",
       "      <td>0</td>\n",
       "      <td>0</td>\n",
       "      <td>0</td>\n",
       "      <td>0</td>\n",
       "      <td>0</td>\n",
       "      <td>0</td>\n",
       "      <td>0</td>\n",
       "      <td>0</td>\n",
       "      <td>0</td>\n",
       "      <td>42</td>\n",
       "    </tr>\n",
       "    <tr>\n",
       "      <th>2</th>\n",
       "      <td>0013fd999caf9a3efe1352ca1b0d937e</td>\n",
       "      <td>0</td>\n",
       "      <td>1</td>\n",
       "      <td>1</td>\n",
       "      <td>1</td>\n",
       "      <td>0</td>\n",
       "      <td>0</td>\n",
       "      <td>0</td>\n",
       "      <td>0</td>\n",
       "      <td>1</td>\n",
       "      <td>1</td>\n",
       "      <td>0</td>\n",
       "      <td>0</td>\n",
       "      <td>28</td>\n",
       "    </tr>\n",
       "    <tr>\n",
       "      <th>3</th>\n",
       "      <td>0018df346ac9c1d8413cfcc888ca8246</td>\n",
       "      <td>0</td>\n",
       "      <td>1</td>\n",
       "      <td>1</td>\n",
       "      <td>1</td>\n",
       "      <td>0</td>\n",
       "      <td>0</td>\n",
       "      <td>0</td>\n",
       "      <td>0</td>\n",
       "      <td>0</td>\n",
       "      <td>0</td>\n",
       "      <td>0</td>\n",
       "      <td>0</td>\n",
       "      <td>15</td>\n",
       "    </tr>\n",
       "    <tr>\n",
       "      <th>4</th>\n",
       "      <td>001dc955e10590d3ca4673f034feeef2</td>\n",
       "      <td>0</td>\n",
       "      <td>0</td>\n",
       "      <td>0</td>\n",
       "      <td>1</td>\n",
       "      <td>0</td>\n",
       "      <td>0</td>\n",
       "      <td>1</td>\n",
       "      <td>0</td>\n",
       "      <td>0</td>\n",
       "      <td>0</td>\n",
       "      <td>0</td>\n",
       "      <td>0</td>\n",
       "      <td>72</td>\n",
       "    </tr>\n",
       "  </tbody>\n",
       "</table>\n",
       "</div>"
      ],
      "text/plain": [
       "                                 Id  Subject Focus  Eyes  Face  Near  Action  \\\n",
       "0  0007de18844b0dbbb5e1f607da0606e0              0     1     1     1       0   \n",
       "1  0009c66b9439883ba2750fb825e1d7db              0     1     1     0       0   \n",
       "2  0013fd999caf9a3efe1352ca1b0d937e              0     1     1     1       0   \n",
       "3  0018df346ac9c1d8413cfcc888ca8246              0     1     1     1       0   \n",
       "4  001dc955e10590d3ca4673f034feeef2              0     0     0     1       0   \n",
       "\n",
       "   Accessory  Group  Collage  Human  Occlusion  Info  Blur  Pawpularity  \n",
       "0          0      1        0      0          0     0     0           63  \n",
       "1          0      0        0      0          0     0     0           42  \n",
       "2          0      0        0      1          1     0     0           28  \n",
       "3          0      0        0      0          0     0     0           15  \n",
       "4          0      1        0      0          0     0     0           72  "
      ]
     },
     "metadata": {},
     "output_type": "display_data"
    },
    {
     "name": "stdout",
     "output_type": "stream",
     "text": [
      "========================================================================================================================\n",
      "<class 'pandas.core.frame.DataFrame'>\n",
      "RangeIndex: 8 entries, 0 to 7\n",
      "Data columns (total 13 columns):\n",
      " #   Column         Non-Null Count  Dtype \n",
      "---  ------         --------------  ----- \n",
      " 0   Id             8 non-null      object\n",
      " 1   Subject Focus  8 non-null      int64 \n",
      " 2   Eyes           8 non-null      int64 \n",
      " 3   Face           8 non-null      int64 \n",
      " 4   Near           8 non-null      int64 \n",
      " 5   Action         8 non-null      int64 \n",
      " 6   Accessory      8 non-null      int64 \n",
      " 7   Group          8 non-null      int64 \n",
      " 8   Collage        8 non-null      int64 \n",
      " 9   Human          8 non-null      int64 \n",
      " 10  Occlusion      8 non-null      int64 \n",
      " 11  Info           8 non-null      int64 \n",
      " 12  Blur           8 non-null      int64 \n",
      "dtypes: int64(12), object(1)\n",
      "memory usage: 960.0+ bytes\n"
     ]
    },
    {
     "data": {
      "text/html": [
       "<div>\n",
       "<style scoped>\n",
       "    .dataframe tbody tr th:only-of-type {\n",
       "        vertical-align: middle;\n",
       "    }\n",
       "\n",
       "    .dataframe tbody tr th {\n",
       "        vertical-align: top;\n",
       "    }\n",
       "\n",
       "    .dataframe thead th {\n",
       "        text-align: right;\n",
       "    }\n",
       "</style>\n",
       "<table border=\"1\" class=\"dataframe\">\n",
       "  <thead>\n",
       "    <tr style=\"text-align: right;\">\n",
       "      <th></th>\n",
       "      <th>Id</th>\n",
       "      <th>Subject Focus</th>\n",
       "      <th>Eyes</th>\n",
       "      <th>Face</th>\n",
       "      <th>Near</th>\n",
       "      <th>Action</th>\n",
       "      <th>Accessory</th>\n",
       "      <th>Group</th>\n",
       "      <th>Collage</th>\n",
       "      <th>Human</th>\n",
       "      <th>Occlusion</th>\n",
       "      <th>Info</th>\n",
       "      <th>Blur</th>\n",
       "    </tr>\n",
       "  </thead>\n",
       "  <tbody>\n",
       "    <tr>\n",
       "      <th>0</th>\n",
       "      <td>4128bae22183829d2b5fea10effdb0c3</td>\n",
       "      <td>1</td>\n",
       "      <td>0</td>\n",
       "      <td>1</td>\n",
       "      <td>0</td>\n",
       "      <td>0</td>\n",
       "      <td>1</td>\n",
       "      <td>1</td>\n",
       "      <td>0</td>\n",
       "      <td>0</td>\n",
       "      <td>1</td>\n",
       "      <td>0</td>\n",
       "      <td>1</td>\n",
       "    </tr>\n",
       "    <tr>\n",
       "      <th>1</th>\n",
       "      <td>43a2262d7738e3d420d453815151079e</td>\n",
       "      <td>0</td>\n",
       "      <td>1</td>\n",
       "      <td>0</td>\n",
       "      <td>0</td>\n",
       "      <td>0</td>\n",
       "      <td>0</td>\n",
       "      <td>1</td>\n",
       "      <td>1</td>\n",
       "      <td>0</td>\n",
       "      <td>0</td>\n",
       "      <td>0</td>\n",
       "      <td>0</td>\n",
       "    </tr>\n",
       "    <tr>\n",
       "      <th>2</th>\n",
       "      <td>4e429cead1848a298432a0acad014c9d</td>\n",
       "      <td>0</td>\n",
       "      <td>0</td>\n",
       "      <td>0</td>\n",
       "      <td>1</td>\n",
       "      <td>0</td>\n",
       "      <td>1</td>\n",
       "      <td>1</td>\n",
       "      <td>1</td>\n",
       "      <td>0</td>\n",
       "      <td>1</td>\n",
       "      <td>1</td>\n",
       "      <td>1</td>\n",
       "    </tr>\n",
       "    <tr>\n",
       "      <th>3</th>\n",
       "      <td>80bc3ccafcc51b66303c2c263aa38486</td>\n",
       "      <td>1</td>\n",
       "      <td>0</td>\n",
       "      <td>1</td>\n",
       "      <td>0</td>\n",
       "      <td>0</td>\n",
       "      <td>0</td>\n",
       "      <td>0</td>\n",
       "      <td>0</td>\n",
       "      <td>0</td>\n",
       "      <td>0</td>\n",
       "      <td>1</td>\n",
       "      <td>0</td>\n",
       "    </tr>\n",
       "    <tr>\n",
       "      <th>4</th>\n",
       "      <td>8f49844c382931444e68dffbe20228f4</td>\n",
       "      <td>1</td>\n",
       "      <td>1</td>\n",
       "      <td>1</td>\n",
       "      <td>0</td>\n",
       "      <td>1</td>\n",
       "      <td>1</td>\n",
       "      <td>0</td>\n",
       "      <td>1</td>\n",
       "      <td>0</td>\n",
       "      <td>1</td>\n",
       "      <td>1</td>\n",
       "      <td>0</td>\n",
       "    </tr>\n",
       "  </tbody>\n",
       "</table>\n",
       "</div>"
      ],
      "text/plain": [
       "                                 Id  Subject Focus  Eyes  Face  Near  Action  \\\n",
       "0  4128bae22183829d2b5fea10effdb0c3              1     0     1     0       0   \n",
       "1  43a2262d7738e3d420d453815151079e              0     1     0     0       0   \n",
       "2  4e429cead1848a298432a0acad014c9d              0     0     0     1       0   \n",
       "3  80bc3ccafcc51b66303c2c263aa38486              1     0     1     0       0   \n",
       "4  8f49844c382931444e68dffbe20228f4              1     1     1     0       1   \n",
       "\n",
       "   Accessory  Group  Collage  Human  Occlusion  Info  Blur  \n",
       "0          1      1        0      0          1     0     1  \n",
       "1          0      1        1      0          0     0     0  \n",
       "2          1      1        1      0          1     1     1  \n",
       "3          0      0        0      0          0     1     0  \n",
       "4          1      0        1      0          1     1     0  "
      ]
     },
     "metadata": {},
     "output_type": "display_data"
    },
    {
     "name": "stdout",
     "output_type": "stream",
     "text": [
      "========================================================================================================================\n",
      "<class 'pandas.core.frame.DataFrame'>\n",
      "RangeIndex: 8 entries, 0 to 7\n",
      "Data columns (total 2 columns):\n",
      " #   Column       Non-Null Count  Dtype  \n",
      "---  ------       --------------  -----  \n",
      " 0   Id           8 non-null      object \n",
      " 1   Pawpularity  8 non-null      float64\n",
      "dtypes: float64(1), object(1)\n",
      "memory usage: 256.0+ bytes\n"
     ]
    },
    {
     "data": {
      "text/html": [
       "<div>\n",
       "<style scoped>\n",
       "    .dataframe tbody tr th:only-of-type {\n",
       "        vertical-align: middle;\n",
       "    }\n",
       "\n",
       "    .dataframe tbody tr th {\n",
       "        vertical-align: top;\n",
       "    }\n",
       "\n",
       "    .dataframe thead th {\n",
       "        text-align: right;\n",
       "    }\n",
       "</style>\n",
       "<table border=\"1\" class=\"dataframe\">\n",
       "  <thead>\n",
       "    <tr style=\"text-align: right;\">\n",
       "      <th></th>\n",
       "      <th>Id</th>\n",
       "      <th>Pawpularity</th>\n",
       "    </tr>\n",
       "  </thead>\n",
       "  <tbody>\n",
       "    <tr>\n",
       "      <th>0</th>\n",
       "      <td>4128bae22183829d2b5fea10effdb0c3</td>\n",
       "      <td>67.75</td>\n",
       "    </tr>\n",
       "    <tr>\n",
       "      <th>1</th>\n",
       "      <td>43a2262d7738e3d420d453815151079e</td>\n",
       "      <td>59.15</td>\n",
       "    </tr>\n",
       "    <tr>\n",
       "      <th>2</th>\n",
       "      <td>4e429cead1848a298432a0acad014c9d</td>\n",
       "      <td>20.02</td>\n",
       "    </tr>\n",
       "    <tr>\n",
       "      <th>3</th>\n",
       "      <td>80bc3ccafcc51b66303c2c263aa38486</td>\n",
       "      <td>94.53</td>\n",
       "    </tr>\n",
       "    <tr>\n",
       "      <th>4</th>\n",
       "      <td>8f49844c382931444e68dffbe20228f4</td>\n",
       "      <td>89.82</td>\n",
       "    </tr>\n",
       "  </tbody>\n",
       "</table>\n",
       "</div>"
      ],
      "text/plain": [
       "                                 Id  Pawpularity\n",
       "0  4128bae22183829d2b5fea10effdb0c3        67.75\n",
       "1  43a2262d7738e3d420d453815151079e        59.15\n",
       "2  4e429cead1848a298432a0acad014c9d        20.02\n",
       "3  80bc3ccafcc51b66303c2c263aa38486        94.53\n",
       "4  8f49844c382931444e68dffbe20228f4        89.82"
      ]
     },
     "metadata": {},
     "output_type": "display_data"
    }
   ],
   "source": [
    "for df in [train, test, sub]:\n",
    "    print(f\"=\" * 120)\n",
    "    df.info()\n",
    "    display(df.head())"
   ]
  },
  {
   "cell_type": "code",
   "execution_count": 18,
   "metadata": {
    "colab": {
     "base_uri": "https://localhost:8080/",
     "height": 296
    },
    "executionInfo": {
     "elapsed": 553,
     "status": "ok",
     "timestamp": 1633394797327,
     "user": {
      "displayName": "Yoshio S",
      "photoUrl": "https://lh3.googleusercontent.com/a/default-user=s64",
      "userId": "02953556559298393836"
     },
     "user_tz": -540
    },
    "id": "uK-vChyCKVhZ",
    "outputId": "3d5cf17f-3df5-4163-a7ba-be4bd83f6211"
   },
   "outputs": [
    {
     "data": {
      "text/plain": [
       "<AxesSubplot:xlabel='Pawpularity'>"
      ]
     },
     "execution_count": 18,
     "metadata": {},
     "output_type": "execute_result"
    },
    {
     "data": {
      "image/png": "[encoded data removed]",
      "text/plain": [
       "<Figure size 432x288 with 1 Axes>"
      ]
     },
     "metadata": {
      "needs_background": "light"
     },
     "output_type": "display_data"
    }
   ],
   "source": [
    "sns.distplot(train[\"Pawpularity\"], kde=False)"
   ]
  },
  {
   "cell_type": "markdown",
   "metadata": {
    "id": "-nN20A-4KeX2"
   },
   "source": [
    "# Preprocess"
   ]
  },
  {
   "cell_type": "code",
   "execution_count": 19,
   "metadata": {
    "executionInfo": {
     "elapsed": 15,
     "status": "ok",
     "timestamp": 1633394797328,
     "user": {
      "displayName": "Yoshio S",
      "photoUrl": "https://lh3.googleusercontent.com/a/default-user=s64",
      "userId": "02953556559298393836"
     },
     "user_tz": -540
    },
    "id": "yJhnZyCOKf_8"
   },
   "outputs": [],
   "source": [
    "def get_transforms(*, data):\n",
    "    if data == \"train\":\n",
    "        if \"basic aug\" in wandb_tags:\n",
    "            return A.Compose(\n",
    "                [\n",
    "                    # A.Resize(config.size, config.size),\n",
    "                    A.RandomResizedCrop(config.size, config.size),\n",
    "                    A.Transpose(p=0.5),\n",
    "                    A.HorizontalFlip(p=0.5),\n",
    "                    A.VerticalFlip(p=0.5),\n",
    "                    A.ShiftScaleRotate(p=0.5),\n",
    "                    A.Normalize(\n",
    "                        mean=[0.485, 0.456, 0.406],\n",
    "                        std=[0.229, 0.224, 0.225],\n",
    "                    ),\n",
    "                    ToTensorV2(),\n",
    "                ]\n",
    "            )\n",
    "\n",
    "        if \"heavy aug\" in wandb_tags:\n",
    "            return A.Compose(\n",
    "                [\n",
    "                    # A.Resize(config.size, config.size),\n",
    "                    A.RandomResizedCrop(config.size, config.size),\n",
    "                    A.Transpose(p=0.5),\n",
    "                    A.HorizontalFlip(p=0.5),\n",
    "                    A.VerticalFlip(p=0.5),\n",
    "                    A.ShiftScaleRotate(p=0.5),\n",
    "                    A.HueSaturationValue(hue_shift_limit=0.2, sat_shift_limit=0.2, val_shift_limit=0.2, p=0.5),\n",
    "                    A.RandomBrightnessContrast(brightness_limit=(-0.1, 0.1), contrast_limit=(-0.1, 0.1), p=0.5),\n",
    "                    # A.CoarseDropout(p=0.5),\n",
    "                    # A.Cutout(p=0.5),\n",
    "                    A.Normalize(\n",
    "                        mean=[0.485, 0.456, 0.406],\n",
    "                        std=[0.229, 0.224, 0.225],\n",
    "                    ),\n",
    "                    ToTensorV2(),\n",
    "                ]\n",
    "            )\n",
    "\n",
    "    return A.Compose(\n",
    "        [\n",
    "            A.Resize(config.size, config.size),\n",
    "            # A.CenterCrop(config.size, config.size),\n",
    "            A.Normalize(\n",
    "                mean=[0.485, 0.456, 0.406],\n",
    "                std=[0.229, 0.224, 0.225],\n",
    "            ),\n",
    "            ToTensorV2(),\n",
    "        ]\n",
    "    )"
   ]
  },
  {
   "cell_type": "markdown",
   "metadata": {
    "id": "_kDt-OBGKg33"
   },
   "source": [
    "# EDA 2"
   ]
  },
  {
   "cell_type": "code",
   "execution_count": null,
   "metadata": {
    "executionInfo": {
     "elapsed": 15,
     "status": "ok",
     "timestamp": 1633394797329,
     "user": {
      "displayName": "Yoshio S",
      "photoUrl": "https://lh3.googleusercontent.com/a/default-user=s64",
      "userId": "02953556559298393836"
     },
     "user_tz": -540
    },
    "id": "m2XP3TB7KhvW"
   },
   "outputs": [],
   "source": []
  },
  {
   "cell_type": "markdown",
   "metadata": {
    "id": "tFYIILAsKih4"
   },
   "source": [
    "# 👑 Load Artifacts"
   ]
  },
  {
   "cell_type": "code",
   "execution_count": 20,
   "metadata": {
    "executionInfo": {
     "elapsed": 15,
     "status": "ok",
     "timestamp": 1633394797329,
     "user": {
      "displayName": "Yoshio S",
      "photoUrl": "https://lh3.googleusercontent.com/a/default-user=s64",
      "userId": "02953556559298393836"
     },
     "user_tz": -540
    },
    "id": "ahzUGk4sK6te"
   },
   "outputs": [],
   "source": [
    "if Config.debug:\n",
    "    train = train.sample(n=Config.num_debug_data, random_state=config.seed).reset_index(drop=True)\n",
    "    if len(sub) > Config.num_debug_data:\n",
    "        test = test.sample(n=Config.num_debug_data, random_state=config.seed).reset_index(drop=True)\n",
    "        sub = sub.sample(n=Config.num_debug_data, random_state=config.seed).reset_index(drop=True)"
   ]
  },
  {
   "cell_type": "markdown",
   "metadata": {
    "id": "lF4pvz7-L7qT"
   },
   "source": [
    "# Utils"
   ]
  },
  {
   "cell_type": "code",
   "execution_count": 21,
   "metadata": {
    "executionInfo": {
     "elapsed": 14,
     "status": "ok",
     "timestamp": 1633394797329,
     "user": {
      "displayName": "Yoshio S",
      "photoUrl": "https://lh3.googleusercontent.com/a/default-user=s64",
      "userId": "02953556559298393836"
     },
     "user_tz": -540
    },
    "id": "qrlmhizKMCku"
   },
   "outputs": [],
   "source": [
    "@contextmanager\n",
    "def timer(name):\n",
    "    t0 = time.time()\n",
    "    LOGGER.info(f\"[{name}] start\")\n",
    "    yield\n",
    "    LOGGER.info(f\"[{name}] done in {time.time() - t0:.0f} s.\")\n",
    "\n",
    "\n",
    "def init_logger(log_file=OUTPUT_DIR + \"train.log\"):\n",
    "    from logging import INFO, FileHandler, Formatter, StreamHandler, getLogger\n",
    "\n",
    "    logger = getLogger(__name__)\n",
    "    logger.setLevel(INFO)\n",
    "    handler1 = StreamHandler()\n",
    "    handler1.setFormatter(Formatter(\"%(message)s\"))\n",
    "    handler2 = FileHandler(filename=log_file)\n",
    "    handler2.setFormatter(Formatter(\"%(message)s\"))\n",
    "    logger.addHandler(handler1)\n",
    "    logger.addHandler(handler2)\n",
    "    return logger\n",
    "\n",
    "\n",
    "LOGGER = init_logger()\n",
    "\n",
    "\n",
    "def seed_torch(seed=42):\n",
    "    random.seed(seed)\n",
    "    os.environ[\"PYTHONHASHSEED\"] = str(seed)\n",
    "    np.random.seed(seed)\n",
    "    torch.manual_seed(seed)\n",
    "    torch.cuda.manual_seed(seed)\n",
    "    torch.cuda.manual_seed_all(seed)\n",
    "    torch.backends.cudnn.deterministic = True\n",
    "\n",
    "\n",
    "seed_torch(seed=config.seed)"
   ]
  },
  {
   "cell_type": "markdown",
   "metadata": {
    "id": "ClI1iqtWLqU0"
   },
   "source": [
    "# Make Fold"
   ]
  },
  {
   "cell_type": "code",
   "execution_count": 22,
   "metadata": {
    "executionInfo": {
     "elapsed": 15,
     "status": "ok",
     "timestamp": 1633394797330,
     "user": {
      "displayName": "Yoshio S",
      "photoUrl": "https://lh3.googleusercontent.com/a/default-user=s64",
      "userId": "02953556559298393836"
     },
     "user_tz": -540
    },
    "id": "BQVW6__Rjk_N"
   },
   "outputs": [],
   "source": [
    "num_bins = int(np.floor(1 + np.log2(len(train))))\n",
    "train.loc[:, \"bins\"] = pd.cut(train[\"Pawpularity\"], bins=num_bins, labels=False)"
   ]
  },
  {
   "cell_type": "code",
   "execution_count": 23,
   "metadata": {
    "colab": {
     "base_uri": "https://localhost:8080/"
    },
    "executionInfo": {
     "elapsed": 14,
     "status": "ok",
     "timestamp": 1633394797330,
     "user": {
      "displayName": "Yoshio S",
      "photoUrl": "https://lh3.googleusercontent.com/a/default-user=s64",
      "userId": "02953556559298393836"
     },
     "user_tz": -540
    },
    "id": "raBuQ3EjLsmo",
    "outputId": "11fbcaa3-b48c-4143-c742-b0de3e717a2d"
   },
   "outputs": [
    {
     "name": "stdout",
     "output_type": "stream",
     "text": [
      "fold  bins\n",
      "0     0        33\n",
      "      1        42\n",
      "      2       111\n",
      "      3       203\n",
      "      4       188\n",
      "             ... \n",
      "9     9        28\n",
      "      10       20\n",
      "      11       14\n",
      "      12       11\n",
      "      13       36\n",
      "Length: 140, dtype: int64\n"
     ]
    }
   ],
   "source": [
    "Fold = StratifiedKFold(n_splits=config.n_fold, shuffle=True, random_state=seed)\n",
    "for n, (train_index, val_index) in enumerate(Fold.split(train, train[\"bins\"])):\n",
    "    train.loc[val_index, \"fold\"] = int(n)\n",
    "train[\"fold\"] = train[\"fold\"].astype(np.int8)\n",
    "print(train.groupby([\"fold\", \"bins\"]).size())"
   ]
  },
  {
   "cell_type": "markdown",
   "metadata": {
    "id": "EcKN3QPeMMFf"
   },
   "source": [
    "# Dataset"
   ]
  },
  {
   "cell_type": "code",
   "execution_count": 24,
   "metadata": {
    "executionInfo": {
     "elapsed": 10,
     "status": "ok",
     "timestamp": 1633394797331,
     "user": {
      "displayName": "Yoshio S",
      "photoUrl": "https://lh3.googleusercontent.com/a/default-user=s64",
      "userId": "02953556559298393836"
     },
     "user_tz": -540
    },
    "id": "BqcwfvhMterO"
   },
   "outputs": [],
   "source": [
    "# https://github.com/yuhao318/mwh/blob/main/utils.py\n",
    "def mixup(x, feats, y, alpha=1.0, use_cuda=True):\n",
    "\n",
    "    \"\"\"Compute the mixup data. Return mixed inputs, pairs of targets, and lambda\"\"\"\n",
    "    if alpha > 0.0:\n",
    "        lam = np.random.beta(alpha, alpha)\n",
    "        lam = max(lam, 1 - lam)\n",
    "        # lam = min(lam, 1-lam)\n",
    "    else:\n",
    "        lam = 1.0\n",
    "    batch_size = x.size()[0]\n",
    "    if use_cuda:\n",
    "        index = torch.randperm(batch_size).cuda()\n",
    "    else:\n",
    "        index = torch.randperm(batch_size)\n",
    "\n",
    "    ## NO SYM\n",
    "    mixed_x = lam * x + (1 - lam) * x[index, :]\n",
    "    mixed_feats = lam * feats + (1 - lam) * feats[index]\n",
    "    y_a, y_b = y, y[index]\n",
    "\n",
    "    # return mixed_image, mixed_label, lam\n",
    "    return mixed_x, mixed_feats, y_a, y_b, lam"
   ]
  },
  {
   "cell_type": "code",
   "execution_count": 25,
   "metadata": {
    "executionInfo": {
     "elapsed": 10,
     "status": "ok",
     "timestamp": 1633394797331,
     "user": {
      "displayName": "Yoshio S",
      "photoUrl": "https://lh3.googleusercontent.com/a/default-user=s64",
      "userId": "02953556559298393836"
     },
     "user_tz": -540
    },
    "id": "pX4piTk2MPVR"
   },
   "outputs": [],
   "source": [
    "class BaseDataset(Dataset):\n",
    "    def __init__(self, df, transform=None, label=True):\n",
    "        self.df = df\n",
    "        self.file_names = df[\"Id\"].values\n",
    "        self.features = df.drop([\"Id\", \"Pawpularity\", \"fold\", \"bins\"], axis=1).values\n",
    "        self.transform = transform\n",
    "\n",
    "        self.use_label = label\n",
    "        if self.use_label:\n",
    "            self.path = TRAIN_IMAGE_PATH\n",
    "            self.labels = df[\"Pawpularity\"].values / 100.0\n",
    "        else:\n",
    "            self.path = TEST_IMAGE_PATH\n",
    "\n",
    "    def __len__(self):\n",
    "        return len(self.df)\n",
    "\n",
    "    def __getitem__(self, idx):\n",
    "        file_name = self.file_names[idx]\n",
    "        file_path = f\"{self.path}/{file_name}.jpg\"\n",
    "        image = cv2.imread(file_path)\n",
    "        image = cv2.cvtColor(image, cv2.COLOR_BGR2RGB)\n",
    "        feature = torch.tensor(self.features[idx])\n",
    "        if self.transform:\n",
    "            augmented = self.transform(image=image)\n",
    "            image = augmented[\"image\"]\n",
    "        if self.use_label:\n",
    "            label = torch.tensor(self.labels[idx])\n",
    "            return image, feature, label\n",
    "        return image, feature"
   ]
  },
  {
   "cell_type": "code",
   "execution_count": 26,
   "metadata": {
    "colab": {
     "base_uri": "https://localhost:8080/",
     "height": 281
    },
    "executionInfo": {
     "elapsed": 1242,
     "status": "ok",
     "timestamp": 1633394798564,
     "user": {
      "displayName": "Yoshio S",
      "photoUrl": "https://lh3.googleusercontent.com/a/default-user=s64",
      "userId": "02953556559298393836"
     },
     "user_tz": -540
    },
    "id": "0CIysnf0OhGK",
    "outputId": "dca880e9-0d92-43e7-82e2-a11ecacb54c1"
   },
   "outputs": [],
   "source": [
    "if Config.debug:\n",
    "    train_ds = BaseDataset(train)\n",
    "    image, feature, label = train_ds[0]\n",
    "    plt.imshow(image)\n",
    "    plt.title(f\"label: {label}\")\n",
    "    plt.show()"
   ]
  },
  {
   "cell_type": "code",
   "execution_count": 27,
   "metadata": {
    "colab": {
     "base_uri": "https://localhost:8080/",
     "height": 281
    },
    "executionInfo": {
     "elapsed": 8,
     "status": "ok",
     "timestamp": 1633394798565,
     "user": {
      "displayName": "Yoshio S",
      "photoUrl": "https://lh3.googleusercontent.com/a/default-user=s64",
      "userId": "02953556559298393836"
     },
     "user_tz": -540
    },
    "id": "JwLeTm_EP9kK",
    "outputId": "9193e65d-197d-4e17-91d7-ee026dc0d38a"
   },
   "outputs": [],
   "source": [
    "if Config.debug:\n",
    "    train_ds = BaseDataset(train, transform=get_transforms(data=\"train\"))\n",
    "    image, feature, label = train_ds[0]\n",
    "    plt.imshow(image[0])\n",
    "    plt.title(f\"label: {label}\")\n",
    "    plt.show()"
   ]
  },
  {
   "cell_type": "markdown",
   "metadata": {
    "id": "nbrC2J4KPEp4"
   },
   "source": [
    "# 🚗 Model"
   ]
  },
  {
   "cell_type": "code",
   "execution_count": 28,
   "metadata": {
    "executionInfo": {
     "elapsed": 8,
     "status": "ok",
     "timestamp": 1633394798566,
     "user": {
      "displayName": "Yoshio S",
      "photoUrl": "https://lh3.googleusercontent.com/a/default-user=s64",
      "userId": "02953556559298393836"
     },
     "user_tz": -540
    },
    "id": "827lYLgIPFyY"
   },
   "outputs": [],
   "source": [
    "class BaseModel(nn.Module):\n",
    "    def __init__(self, model_name, pretrained=True):\n",
    "        super().__init__()\n",
    "        self.model_name = model_name\n",
    "        self.model = timm.create_model(model_name, pretrained=pretrained)\n",
    "\n",
    "        if \"resnext50_32x4d\" in model_name:\n",
    "            n_features = self.model.fc.in_features\n",
    "            self.model.fc = nn.Linear(n_features, 128)\n",
    "\n",
    "        elif \"efficientnet\" in model_name:\n",
    "            n_features = self.model.classifier.in_features\n",
    "            self.model.classifier = nn.Linear(n_features, 128)\n",
    "\n",
    "        elif any(key in model_name for key in [\"vit\", \"swin\"]):\n",
    "            n_features = self.model.head.in_features\n",
    "            self.model.head = nn.Linear(n_features, 128)\n",
    "\n",
    "        self.dropout = nn.Dropout(0.1)\n",
    "        self.head1 = nn.Linear(140, 64)\n",
    "        self.head2 = nn.Linear(64, config.n_class)\n",
    "\n",
    "    @amp.autocast(enabled=Config.amp)\n",
    "    def forward(self, x, feats):\n",
    "        x = self.model(x)\n",
    "        x = self.dropout(x)\n",
    "        x = torch.cat([x, feats], dim=1)\n",
    "        x = self.head1(x)\n",
    "        x = self.head2(x)\n",
    "        return x"
   ]
  },
  {
   "cell_type": "code",
   "execution_count": 29,
   "metadata": {},
   "outputs": [],
   "source": [
    "def train_mode(model):\n",
    "    model.train()\n",
    "\n",
    "    # Freeze layer normalization\n",
    "    if any(key in config.model_name for key in [\"vit\", \"swin\"]):\n",
    "        for m in model.modules():\n",
    "            for child in m.children():\n",
    "                if isinstance(child, nn.LayerNorm):\n",
    "                    for param in child.parameters():\n",
    "                        param.requires_grad = False"
   ]
  },
  {
   "cell_type": "code",
   "execution_count": 30,
   "metadata": {},
   "outputs": [],
   "source": [
    "if Config.debug and config.model_name != \"\":\n",
    "    model = BaseModel(config.model_name)\n",
    "    model.apply(train_mode)\n",
    "\n",
    "    for n, (name, tensor) in enumerate(list(model.named_parameters())):\n",
    "        print(f\"{n:>4}: {tensor.requires_grad}, {name}\")"
   ]
  },
  {
   "cell_type": "code",
   "execution_count": 31,
   "metadata": {
    "colab": {
     "base_uri": "https://localhost:8080/"
    },
    "executionInfo": {
     "elapsed": 83590,
     "status": "ok",
     "timestamp": 1633394882149,
     "user": {
      "displayName": "Yoshio S",
      "photoUrl": "https://lh3.googleusercontent.com/a/default-user=s64",
      "userId": "02953556559298393836"
     },
     "user_tz": -540
    },
    "id": "oudAIpPqQt6z",
    "outputId": "32564315-dd7d-4bc9-f24b-620488993b3a"
   },
   "outputs": [],
   "source": [
    "if Config.debug and config.model_name != \"\":\n",
    "    model = BaseModel(config.model_name)\n",
    "    print(model)\n",
    "\n",
    "    train_ds = BaseDataset(train, transform=get_transforms(data=\"train\"))\n",
    "    train_loader = DataLoader(train_ds, batch_size=4, shuffle=True, num_workers=4, drop_last=True)\n",
    "\n",
    "    for image, feature, label in train_loader:\n",
    "        output = model(image, feature)\n",
    "        print(output)\n",
    "        break"
   ]
  },
  {
   "cell_type": "code",
   "execution_count": 32,
   "metadata": {
    "colab": {
     "base_uri": "https://localhost:8080/",
     "height": 298
    },
    "id": "CiCqVeWhh2gr",
    "outputId": "81496b08-c725-48b9-ad02-573eb0346269"
   },
   "outputs": [],
   "source": [
    "if Config.debug and config.model_name != \"\":\n",
    "    model = BaseModel(config.model_name)\n",
    "    # print(model)\n",
    "\n",
    "    train_ds = BaseDataset(train, transform=get_transforms(data=\"train\"))\n",
    "    train_loader = DataLoader(train_ds, batch_size=4, shuffle=True, num_workers=4, drop_last=True)\n",
    "\n",
    "    for image, feature, label in train_loader:\n",
    "        image, feature, label_a, label_b, lam = mixup(image, feature, label, alpha=0.5)\n",
    "\n",
    "        plt.imshow(image[0].permute(1, 2, 0))\n",
    "        plt.title(f\"label: {label_a} and {label_b}\")\n",
    "        plt.show()\n",
    "\n",
    "        output = model(image, feature)\n",
    "        print(output)\n",
    "        break"
   ]
  },
  {
   "cell_type": "markdown",
   "metadata": {
    "id": "YCa8k53cRIi_"
   },
   "source": [
    "# Optimizer"
   ]
  },
  {
   "cell_type": "code",
   "execution_count": null,
   "metadata": {
    "id": "FbkDI8DdRJ5w"
   },
   "outputs": [],
   "source": []
  },
  {
   "cell_type": "markdown",
   "metadata": {
    "id": "rFMHkJIMRLBi"
   },
   "source": [
    "# Loss"
   ]
  },
  {
   "cell_type": "code",
   "execution_count": 33,
   "metadata": {
    "id": "f6jKOTHURLxM"
   },
   "outputs": [],
   "source": [
    "class RMSELoss(nn.Module):\n",
    "    def __init__(self, eps=1e-7):\n",
    "        super().__init__()\n",
    "        self.mse = nn.MSELoss()\n",
    "        self.eps = eps\n",
    "\n",
    "    def forward(self, yhat, y):\n",
    "        loss = torch.sqrt(self.mse(yhat, y) + self.eps)\n",
    "        return loss"
   ]
  },
  {
   "cell_type": "markdown",
   "metadata": {
    "id": "dWbNT_NeRMoB"
   },
   "source": [
    "# Scoring"
   ]
  },
  {
   "cell_type": "code",
   "execution_count": 34,
   "metadata": {
    "id": "S4EF_M0NROIn"
   },
   "outputs": [],
   "source": [
    "def get_score(y_true, y_pred):\n",
    "    return np.sqrt(mean_squared_error(y_true, y_pred))"
   ]
  },
  {
   "cell_type": "code",
   "execution_count": 35,
   "metadata": {
    "id": "0fQUwt7adOSk"
   },
   "outputs": [],
   "source": [
    "def get_result(result_df, fold=config.n_fold):\n",
    "    preds = result_df[\"preds\"].values\n",
    "    labels = result_df[\"Pawpularity\"].values\n",
    "    score = get_score(labels, preds)\n",
    "    LOGGER.info(f\"Score: {score:<.5f}\")\n",
    "    if fold == config.n_fold:\n",
    "        wandb.log({\"Score\": score})\n",
    "    else:\n",
    "        wandb.log({f\"Score_fold{fold}\": score})"
   ]
  },
  {
   "cell_type": "markdown",
   "metadata": {
    "id": "d8Ga4Bb8RQsF"
   },
   "source": [
    "# Helper functions"
   ]
  },
  {
   "cell_type": "code",
   "execution_count": 36,
   "metadata": {
    "id": "rRPW8QwiRbPC"
   },
   "outputs": [],
   "source": [
    "class AverageMeter(object):\n",
    "    \"\"\"Computes and stores the average and current value\"\"\"\n",
    "\n",
    "    def __init__(self):\n",
    "        self.reset()\n",
    "\n",
    "    def reset(self):\n",
    "        self.val = 0\n",
    "        self.avg = 0\n",
    "        self.sum = 0\n",
    "        self.count = 0\n",
    "\n",
    "    def update(self, val, n=1):\n",
    "        self.val = val\n",
    "        self.sum += val * n\n",
    "        self.count += n\n",
    "        self.avg = self.sum / self.count\n",
    "\n",
    "\n",
    "def asMinutes(s):\n",
    "    m = math.floor(s / 60)\n",
    "    s -= m * 60\n",
    "    return \"%dm %ds\" % (m, s)\n",
    "\n",
    "\n",
    "def timeSince(since, percent):\n",
    "    now = time.time()\n",
    "    s = now - since\n",
    "    es = s / (percent)\n",
    "    rs = es - s\n",
    "    return \"%s (remain %s)\" % (asMinutes(s), asMinutes(rs))"
   ]
  },
  {
   "cell_type": "code",
   "execution_count": 37,
   "metadata": {
    "id": "23roIn-jhfMe"
   },
   "outputs": [],
   "source": [
    "# https://github.com/Bjarten/early-stopping-pytorch\n",
    "class EarlyStopping:\n",
    "    \"\"\"Early stops the training if validation loss doesn't improve after a given patience.\"\"\"\n",
    "\n",
    "    def __init__(self, patience=7, verbose=False, delta=0, path=\"checkpoint.pt\", trace_func=print):\n",
    "        \"\"\"\n",
    "        Args:\n",
    "            patience (int): How long to wait after last time validation loss improved.\n",
    "                            Default: 7\n",
    "            verbose (bool): If True, prints a message for each validation loss improvement.\n",
    "                            Default: False\n",
    "            delta (float): Minimum change in the monitored quantity to qualify as an improvement.\n",
    "                            Default: 0\n",
    "            path (str): Path for the checkpoint to be saved to.\n",
    "                            Default: 'checkpoint.pt'\n",
    "            trace_func (function): trace print function.\n",
    "                            Default: print\n",
    "        \"\"\"\n",
    "        self.patience = patience\n",
    "        self.verbose = verbose\n",
    "        self.counter = 0\n",
    "        self.best_score = None\n",
    "        self.early_stop = False\n",
    "        self.val_loss_min = np.Inf\n",
    "        self.delta = delta\n",
    "        self.path = path\n",
    "        self.trace_func = trace_func\n",
    "        self.best_preds = None\n",
    "\n",
    "    def __call__(self, val_loss, score, model, preds):\n",
    "\n",
    "        if self.best_score is None:\n",
    "            self.best_score = score\n",
    "            self.best_preds = preds\n",
    "            self.save_checkpoint(val_loss, model)\n",
    "        elif val_loss >= self.val_loss_min + self.delta and self.patience > 0:\n",
    "            self.counter += 1\n",
    "            self.trace_func(f\"EarlyStopping counter: {self.counter} out of {self.patience}\")\n",
    "            if self.counter >= self.patience:\n",
    "                self.early_stop = True\n",
    "        else:\n",
    "            self.best_score = score\n",
    "            self.best_preds = preds\n",
    "            self.save_checkpoint(val_loss, model)\n",
    "            self.counter = 0\n",
    "\n",
    "    def save_checkpoint(self, val_loss, model):\n",
    "        \"\"\"Saves model when validation loss decrease.\"\"\"\n",
    "        if self.verbose:\n",
    "            self.trace_func(\n",
    "                f\"Validation loss decreased ({self.val_loss_min:.6f} --> {val_loss:.6f}).  Saving model ...\"\n",
    "            )\n",
    "        torch.save(model.state_dict(), self.path)\n",
    "        self.val_loss_min = val_loss"
   ]
  },
  {
   "cell_type": "code",
   "execution_count": 38,
   "metadata": {
    "id": "l9Kcw2bdeZR4"
   },
   "outputs": [],
   "source": [
    "def compute_grad_norm(parameters, norm_type=2.0):\n",
    "    \"\"\"Refer to torch.nn.utils.clip_grad_norm_\"\"\"\n",
    "    if isinstance(parameters, torch.Tensor):\n",
    "        parameters = [parameters]\n",
    "    parameters = [p for p in parameters if p.grad is not None]\n",
    "    norm_type = float(norm_type)\n",
    "    total_norm = 0\n",
    "    for p in parameters:\n",
    "        param_norm = p.grad.data.norm(norm_type)\n",
    "        total_norm += param_norm.item() ** norm_type\n",
    "    total_norm = total_norm ** (1.0 / norm_type)\n",
    "    return total_norm"
   ]
  },
  {
   "cell_type": "code",
   "execution_count": 39,
   "metadata": {
    "id": "sWtO4py7Rcud"
   },
   "outputs": [],
   "source": [
    "def train_fn(train_loader, model, criterion, optimizer, scheduler, scaler, epoch, device):\n",
    "    losses = AverageMeter()\n",
    "\n",
    "    # switch to train mode\n",
    "    if \"freeze norm\" in wandb_tags:\n",
    "        model.apply(train_mode)\n",
    "    else:\n",
    "        model.train()\n",
    "    start = time.time()\n",
    "    optimizer.zero_grad()\n",
    "\n",
    "    for step, (images, features, labels) in enumerate(train_loader):\n",
    "        images = images.to(device)\n",
    "        features = features.to(device)\n",
    "        labels = labels.to(device)\n",
    "        batch_size = labels.size(0)\n",
    "\n",
    "        if epoch < 2 or epoch >= config.epochs - 2:\n",
    "            mix_decision = 1.0\n",
    "        else:\n",
    "            mix_decision = np.random.rand()\n",
    "\n",
    "        if epoch >= config.epochs - 5:\n",
    "            mix_decision *= 2\n",
    "\n",
    "        if \"mixup\" in wandb_tags and mix_decision < 0.5:\n",
    "            images, features, label_a, label_b, lam = mixup(images, features, labels, alpha=0.5)\n",
    "\n",
    "        with amp.autocast(enabled=Config.amp):\n",
    "            # y_preds = model(images, features)\n",
    "            y_preds = model(images, features).squeeze(1)\n",
    "\n",
    "            if \"mixup\" in wandb_tags and mix_decision < 0.5:\n",
    "                loss = criterion(y_preds, label_a) * lam + criterion(y_preds, label_b) * (1.0 - lam)\n",
    "            else:\n",
    "                loss = criterion(y_preds, labels)\n",
    "\n",
    "            losses.update(loss.item(), batch_size)\n",
    "            loss = loss / config.gradient_accumulation_steps\n",
    "\n",
    "        scaler.scale(loss).backward()\n",
    "\n",
    "        if (step + 1) % config.gradient_accumulation_steps == 0:\n",
    "            scaler.unscale_(optimizer)\n",
    "            grad_norm = torch.nn.utils.clip_grad_norm_(model.parameters(), config.max_grad_norm)\n",
    "            scaler.step(optimizer)\n",
    "            scaler.update()\n",
    "\n",
    "            scheduler.step()\n",
    "            optimizer.zero_grad()\n",
    "        else:\n",
    "            grad_norm = compute_grad_norm(model.parameters())\n",
    "\n",
    "        end = time.time()\n",
    "        if step % Config.print_freq == 0 or step == (len(train_loader) - 1):\n",
    "            print(\n",
    "                f\"Epoch: [{epoch + 1}][{step}/{len(train_loader)}] \"\n",
    "                f\"Elapsed {timeSince(start, float(step + 1) / len(train_loader)):s} \"\n",
    "                f\"Loss: {losses.avg:.4f} \"\n",
    "                f\"Grad: {grad_norm:.4f} \"\n",
    "                f\"LR: {scheduler.get_lr()[0]:.6f}  \"\n",
    "            )\n",
    "\n",
    "    return losses.avg"
   ]
  },
  {
   "cell_type": "code",
   "execution_count": 40,
   "metadata": {
    "id": "wlPZYJYgXRZ4"
   },
   "outputs": [],
   "source": [
    "def valid_fn(valid_loader, model, criterion, device):\n",
    "    losses = AverageMeter()\n",
    "\n",
    "    # switch to evaluation mode\n",
    "    model.eval()\n",
    "    preds = []\n",
    "    start = time.time()\n",
    "\n",
    "    for step, (images, features, labels) in enumerate(valid_loader):\n",
    "        images = images.to(device)\n",
    "        features = features.to(device)\n",
    "        labels = labels.to(device)\n",
    "        batch_size = labels.size(0)\n",
    "\n",
    "        with torch.no_grad():\n",
    "            # y_preds = model(images, features)\n",
    "            y_preds = model(images, features).squeeze(1)\n",
    "\n",
    "        loss = criterion(y_preds, labels)\n",
    "        losses.update(loss.item(), batch_size)\n",
    "\n",
    "        # preds.append(y_preds.softmax(1).to(\"cpu\").numpy())\n",
    "        preds.append(y_preds.to(\"cpu\").numpy())\n",
    "\n",
    "        end = time.time()\n",
    "        if step % Config.print_freq == 0 or step == (len(valid_loader) - 1):\n",
    "            print(\n",
    "                f\"EVAL: [{step}/{len(valid_loader)}] \"\n",
    "                f\"Elapsed {timeSince(start, float(step + 1) / len(valid_loader)):s} \"\n",
    "                f\"Loss: {losses.avg:.4f} \"\n",
    "            )\n",
    "\n",
    "    predictions = np.concatenate(preds)\n",
    "    return losses.avg, predictions"
   ]
  },
  {
   "cell_type": "markdown",
   "metadata": {
    "id": "4ybZNlV6YEp8"
   },
   "source": [
    "# Postprocess"
   ]
  },
  {
   "cell_type": "code",
   "execution_count": null,
   "metadata": {
    "id": "_JIDycP9YFvO"
   },
   "outputs": [],
   "source": []
  },
  {
   "cell_type": "markdown",
   "metadata": {
    "id": "-mwWqWJdX232"
   },
   "source": [
    "# 🏃‍♂️ Train loop"
   ]
  },
  {
   "cell_type": "code",
   "execution_count": 41,
   "metadata": {
    "id": "ei3alnONX4RY"
   },
   "outputs": [],
   "source": [
    "def train_loop(df, fold):\n",
    "    LOGGER.info(f\"========== fold: {fold} training ==========\")\n",
    "\n",
    "    # ====================================================\n",
    "    # Data Loader\n",
    "    # ====================================================\n",
    "    trn_idx = df[df[\"fold\"] != fold].index\n",
    "    val_idx = df[df[\"fold\"] == fold].index\n",
    "\n",
    "    train_folds = df.loc[trn_idx].reset_index(drop=True)\n",
    "    valid_folds = df.loc[val_idx].reset_index(drop=True)\n",
    "\n",
    "    train_dataset = BaseDataset(train_folds, transform=get_transforms(data=\"train\"))\n",
    "    train_dataset_ = BaseDataset(train_folds, transform=get_transforms(data=\"valid\"))\n",
    "    valid_dataset = BaseDataset(valid_folds, transform=get_transforms(data=\"valid\"))\n",
    "\n",
    "    train_loader = DataLoader(\n",
    "        train_dataset,\n",
    "        batch_size=config.batch_size,\n",
    "        shuffle=True,\n",
    "        num_workers=4,\n",
    "        pin_memory=True,\n",
    "        drop_last=True,\n",
    "    )\n",
    "    train_loader_ = DataLoader(\n",
    "        train_dataset_,\n",
    "        batch_size=config.batch_size,\n",
    "        shuffle=True,\n",
    "        num_workers=4,\n",
    "        pin_memory=True,\n",
    "        drop_last=True,\n",
    "    )\n",
    "    valid_loader = DataLoader(\n",
    "        valid_dataset,\n",
    "        batch_size=config.batch_size,\n",
    "        shuffle=False,\n",
    "        num_workers=4,\n",
    "        pin_memory=True,\n",
    "        drop_last=False,\n",
    "    )\n",
    "\n",
    "    # ====================================================\n",
    "    # Optimizer\n",
    "    # ====================================================\n",
    "    def get_optimizer(model):\n",
    "        if config.optimizer == \"Adam\":\n",
    "            optimizer = Adam(model.parameters(), lr=config.lr, weight_decay=config.weight_decay)\n",
    "        elif config.optimizer == \"AdamW\":\n",
    "            optimizer = T.AdamW(model.parameters(), lr=config.lr, weight_decay=config.weight_decay)\n",
    "        return optimizer\n",
    "\n",
    "    # ====================================================\n",
    "    # Scheduler\n",
    "    # ====================================================\n",
    "    def get_scheduler(optimizer, train_dataset):\n",
    "        num_data = len(train_dataset)\n",
    "        num_steps = num_data // (config.batch_size * config.gradient_accumulation_steps) * config.epochs\n",
    "\n",
    "        if config.scheduler == \"CosineAnnealingWarmRestarts\":\n",
    "            scheduler = CosineAnnealingWarmRestarts(\n",
    "                optimizer, T_0=num_steps, T_mult=1, eta_min=config.min_lr, last_epoch=-1\n",
    "            )\n",
    "        elif config.scheduler == \"CosineAnnealingLR\":\n",
    "            scheduler = CosineAnnealingLR(optimizer, T_max=num_steps, eta_min=config.min_lr, last_epoch=-1)\n",
    "        elif config.scheduler == \"CosineAnnealingWarmupRestarts\":\n",
    "            scheduler = CosineAnnealingWarmupRestarts(\n",
    "                optimizer,\n",
    "                first_cycle_steps=num_steps,\n",
    "                max_lr=config.lr,\n",
    "                min_lr=config.min_lr,\n",
    "                warmup_steps=(num_steps // 10),\n",
    "            )\n",
    "        return scheduler\n",
    "\n",
    "    # ====================================================\n",
    "    # Model\n",
    "    # ====================================================\n",
    "    model = BaseModel(config.model_name)\n",
    "    if Config.multi_gpu:\n",
    "        model = nn.DataParallel(model)\n",
    "    model.to(device)\n",
    "\n",
    "    optimizer = get_optimizer(model)\n",
    "    scaler = amp.GradScaler(enabled=Config.amp)\n",
    "    scheduler = get_scheduler(optimizer, train_dataset)\n",
    "\n",
    "    # ====================================================\n",
    "    # Criterion\n",
    "    # ====================================================\n",
    "    def get_criterion():\n",
    "        if config.criterion == \"CrossEntropyLoss\":\n",
    "            criterion = nn.CrossEntropyLoss()\n",
    "        elif config.criterion == \"BCEWithLogitsLoss\":\n",
    "            criterion = nn.BCEWithLogitsLoss()\n",
    "        elif config.criterion == \"MSELoss\":\n",
    "            criterion = nn.MSELoss()\n",
    "        return criterion\n",
    "\n",
    "    criterion = get_criterion()\n",
    "\n",
    "    # ====================================================\n",
    "    # Early stopping\n",
    "    # ====================================================\n",
    "    es = EarlyStopping(\n",
    "        patience=config.es_patience,\n",
    "        verbose=True,\n",
    "        path=MODEL_DIR + f\"{config.model_name.replace('/', '-')}_fold{fold}_best.pth\",\n",
    "    )\n",
    "\n",
    "    # ====================================================\n",
    "    # Loop\n",
    "    # ====================================================\n",
    "    best_score = -1\n",
    "    best_loss = np.inf\n",
    "    best_preds = None\n",
    "\n",
    "    for epoch in range(config.epochs):\n",
    "        start_time = time.time()\n",
    "\n",
    "        # train\n",
    "        if epoch < 2 or epoch >= config.epochs - 2:\n",
    "            avg_loss = train_fn(train_loader_, model, criterion, optimizer, scheduler, scaler, epoch, device)\n",
    "        else:\n",
    "            avg_loss = train_fn(train_loader, model, criterion, optimizer, scheduler, scaler, epoch, device)\n",
    "\n",
    "        # eval\n",
    "        avg_val_loss, preds = valid_fn(valid_loader, model, criterion, device)\n",
    "        valid_labels = valid_folds[\"Pawpularity\"].values\n",
    "\n",
    "        if config.criterion == \"BCEWithLogitsLoss\":\n",
    "            preds = 1 / (1 + np.exp(-preds))\n",
    "\n",
    "        preds *= 100.0\n",
    "\n",
    "        # scoring\n",
    "        # score = get_score(valid_labels, preds.argmax(1))\n",
    "        score = get_score(valid_labels, preds)\n",
    "\n",
    "        elapsed = time.time() - start_time\n",
    "        LOGGER.info(\n",
    "            f\"Epoch {epoch+1} - avg_train_loss: {avg_loss:.4f}  avg_val_loss: {avg_val_loss:.4f}  time: {elapsed:.0f}s\"\n",
    "        )\n",
    "        LOGGER.info(f\"Epoch {epoch+1} - Score: {score}\")\n",
    "\n",
    "        wandb.log(\n",
    "            {\n",
    "                \"epoch\": epoch + 1,\n",
    "                f\"loss/train_fold{fold}\": avg_loss,\n",
    "                f\"loss/valid_fold{fold}\": avg_val_loss,\n",
    "                f\"score/fold{fold}\": score,\n",
    "            }\n",
    "        )\n",
    "\n",
    "        es(avg_val_loss, score, model, preds)\n",
    "\n",
    "        if es.early_stop:\n",
    "            print(\"Early stopping\")\n",
    "            break\n",
    "\n",
    "    # valid_folds[[str(c) for c in range(config.n_class)]] = es.best_preds\n",
    "    # valid_folds[\"preds\"] = es.best_preds.argmax(1)\n",
    "    valid_folds[\"preds\"] = es.best_preds\n",
    "\n",
    "    return valid_folds, es.best_score, es.val_loss_min"
   ]
  },
  {
   "cell_type": "markdown",
   "metadata": {
    "id": "EVj6cfuLc4VP"
   },
   "source": [
    "# Main function"
   ]
  },
  {
   "cell_type": "code",
   "execution_count": 42,
   "metadata": {
    "id": "PpdJfNgUc5N3"
   },
   "outputs": [],
   "source": [
    "def main():\n",
    "    # ====================================================\n",
    "    # Training\n",
    "    # ====================================================\n",
    "    if Config.train:\n",
    "        oof_df = pd.DataFrame()\n",
    "        oof_result = []\n",
    "        for fold in range(config.n_fold):\n",
    "            seed_torch(seed + fold)\n",
    "\n",
    "            _oof_df, score, loss = train_loop(train, fold)\n",
    "            oof_df = pd.concat([oof_df, _oof_df])\n",
    "            oof_result.append([fold, score, loss])\n",
    "\n",
    "            LOGGER.info(f\"========== fold: {fold} result ==========\")\n",
    "            get_result(_oof_df, fold)\n",
    "\n",
    "        # CV result\n",
    "        LOGGER.info(f\"========== CV ==========\")\n",
    "        get_result(oof_df)\n",
    "\n",
    "        loss = statistics.mean([d[2] for d in oof_result])\n",
    "        wandb.log({\"loss\": loss})\n",
    "\n",
    "        table = wandb.Table(data=oof_result, columns=[\"fold\", \"score\", \"loss\"])\n",
    "        run.log({\"Fold Result\": table})\n",
    "\n",
    "        # save result\n",
    "        oof_df.to_csv(OUTPUT_DIR + \"oof_df.csv\", index=False)\n",
    "        wandb.save(OUTPUT_DIR + \"oof_df.csv\")\n",
    "\n",
    "        artifact = wandb.Artifact(config.model_name, type=\"model\")\n",
    "        artifact.add_dir(MODEL_DIR)\n",
    "        run.log_artifact(artifact)"
   ]
  },
  {
   "cell_type": "markdown",
   "metadata": {
    "id": "7-J0CDXjkUaS"
   },
   "source": [
    "# 🚀 Run"
   ]
  },
  {
   "cell_type": "code",
   "execution_count": 43,
   "metadata": {
    "id": "oeDBzpKHdIie"
   },
   "outputs": [
    {
     "name": "stderr",
     "output_type": "stream",
     "text": [
      "========== fold: 0 training ==========\n"
     ]
    },
    {
     "name": "stdout",
     "output_type": "stream",
     "text": [
      "Epoch: [1][0/139] Elapsed 0m 26s (remain 60m 40s) Loss: 0.6972 Grad: 0.6308 LR: 0.000010  \n",
      "Epoch: [1][100/139] Elapsed 1m 36s (remain 0m 36s) Loss: 0.6563 Grad: 0.2361 LR: 0.000010  \n",
      "Epoch: [1][138/139] Elapsed 2m 2s (remain 0m 0s) Loss: 0.6533 Grad: 0.2595 LR: 0.000010  \n",
      "EVAL: [0/16] Elapsed 0m 2s (remain 0m 34s) Loss: 0.6634 \n",
      "EVAL: [15/16] Elapsed 0m 9s (remain 0m 0s) Loss: 0.6456 \n"
     ]
    },
    {
     "name": "stderr",
     "output_type": "stream",
     "text": [
      "Epoch 1 - avg_train_loss: 0.6533  avg_val_loss: 0.6456  time: 132s\n",
      "Epoch 1 - Score: 18.139214748341793\n"
     ]
    },
    {
     "name": "stdout",
     "output_type": "stream",
     "text": [
      "Validation loss decreased (inf --> 0.645584).  Saving model ...\n",
      "Epoch: [2][0/139] Elapsed 0m 3s (remain 6m 58s) Loss: 0.6445 Grad: 0.2588 LR: 0.000010  \n",
      "Epoch: [2][100/139] Elapsed 1m 13s (remain 0m 27s) Loss: 0.6394 Grad: 0.5006 LR: 0.000009  \n",
      "Epoch: [2][138/139] Elapsed 1m 39s (remain 0m 0s) Loss: 0.6391 Grad: 0.4055 LR: 0.000009  \n",
      "EVAL: [0/16] Elapsed 0m 2s (remain 0m 36s) Loss: 0.6622 \n",
      "EVAL: [15/16] Elapsed 0m 9s (remain 0m 0s) Loss: 0.6416 \n"
     ]
    },
    {
     "name": "stderr",
     "output_type": "stream",
     "text": [
      "Epoch 2 - avg_train_loss: 0.6391  avg_val_loss: 0.6416  time: 109s\n",
      "Epoch 2 - Score: 17.597479635035725\n"
     ]
    },
    {
     "name": "stdout",
     "output_type": "stream",
     "text": [
      "Validation loss decreased (0.645584 --> 0.641574).  Saving model ...\n",
      "Epoch: [3][0/139] Elapsed 0m 2s (remain 6m 53s) Loss: 0.6423 Grad: 0.8749 LR: 0.000009  \n",
      "Epoch: [3][100/139] Elapsed 1m 13s (remain 0m 27s) Loss: 0.6485 Grad: 0.6389 LR: 0.000008  \n",
      "Epoch: [3][138/139] Elapsed 1m 40s (remain 0m 0s) Loss: 0.6489 Grad: 0.4619 LR: 0.000008  \n",
      "EVAL: [0/16] Elapsed 0m 2s (remain 0m 38s) Loss: 0.6687 \n",
      "EVAL: [15/16] Elapsed 0m 9s (remain 0m 0s) Loss: 0.6445 \n"
     ]
    },
    {
     "name": "stderr",
     "output_type": "stream",
     "text": [
      "Epoch 3 - avg_train_loss: 0.6489  avg_val_loss: 0.6445  time: 110s\n",
      "Epoch 3 - Score: 17.93805252532811\n"
     ]
    },
    {
     "name": "stdout",
     "output_type": "stream",
     "text": [
      "EarlyStopping counter: 1 out of 10\n",
      "Epoch: [4][0/139] Elapsed 0m 3s (remain 7m 32s) Loss: 0.6477 Grad: 0.5019 LR: 0.000008  \n",
      "Epoch: [4][100/139] Elapsed 1m 13s (remain 0m 27s) Loss: 0.6483 Grad: 0.6314 LR: 0.000007  \n",
      "Epoch: [4][138/139] Elapsed 1m 40s (remain 0m 0s) Loss: 0.6475 Grad: 0.6110 LR: 0.000007  \n",
      "EVAL: [0/16] Elapsed 0m 2s (remain 0m 35s) Loss: 0.6644 \n",
      "EVAL: [15/16] Elapsed 0m 9s (remain 0m 0s) Loss: 0.6413 \n"
     ]
    },
    {
     "name": "stderr",
     "output_type": "stream",
     "text": [
      "Epoch 4 - avg_train_loss: 0.6475  avg_val_loss: 0.6413  time: 110s\n",
      "Epoch 4 - Score: 17.54785432631126\n"
     ]
    },
    {
     "name": "stdout",
     "output_type": "stream",
     "text": [
      "Validation loss decreased (0.641574 --> 0.641260).  Saving model ...\n",
      "Epoch: [5][0/139] Elapsed 0m 3s (remain 7m 41s) Loss: 0.6551 Grad: 0.6845 LR: 0.000007  \n",
      "Epoch: [5][100/139] Elapsed 1m 14s (remain 0m 27s) Loss: 0.6464 Grad: 0.6053 LR: 0.000006  \n",
      "Epoch: [5][138/139] Elapsed 1m 40s (remain 0m 0s) Loss: 0.6466 Grad: 0.4863 LR: 0.000005  \n",
      "EVAL: [0/16] Elapsed 0m 2s (remain 0m 36s) Loss: 0.6638 \n",
      "EVAL: [15/16] Elapsed 0m 9s (remain 0m 0s) Loss: 0.6431 \n"
     ]
    },
    {
     "name": "stderr",
     "output_type": "stream",
     "text": [
      "Epoch 5 - avg_train_loss: 0.6466  avg_val_loss: 0.6431  time: 111s\n",
      "Epoch 5 - Score: 17.76088711748791\n"
     ]
    },
    {
     "name": "stdout",
     "output_type": "stream",
     "text": [
      "EarlyStopping counter: 1 out of 10\n",
      "Epoch: [6][0/139] Elapsed 0m 3s (remain 7m 27s) Loss: 0.6476 Grad: 0.4662 LR: 0.000005  \n",
      "Epoch: [6][100/139] Elapsed 1m 14s (remain 0m 27s) Loss: 0.6438 Grad: 0.4155 LR: 0.000004  \n",
      "Epoch: [6][138/139] Elapsed 1m 40s (remain 0m 0s) Loss: 0.6425 Grad: 0.5817 LR: 0.000004  \n",
      "EVAL: [0/16] Elapsed 0m 2s (remain 0m 40s) Loss: 0.6638 \n",
      "EVAL: [15/16] Elapsed 0m 9s (remain 0m 0s) Loss: 0.6433 \n"
     ]
    },
    {
     "name": "stderr",
     "output_type": "stream",
     "text": [
      "Epoch 6 - avg_train_loss: 0.6425  avg_val_loss: 0.6433  time: 111s\n",
      "Epoch 6 - Score: 17.75139029091601\n"
     ]
    },
    {
     "name": "stdout",
     "output_type": "stream",
     "text": [
      "EarlyStopping counter: 2 out of 10\n",
      "Epoch: [7][0/139] Elapsed 0m 3s (remain 7m 22s) Loss: 0.6297 Grad: 1.0415 LR: 0.000004  \n",
      "Epoch: [7][100/139] Elapsed 1m 14s (remain 0m 27s) Loss: 0.6420 Grad: 0.6541 LR: 0.000003  \n",
      "Epoch: [7][138/139] Elapsed 1m 41s (remain 0m 0s) Loss: 0.6421 Grad: 0.4950 LR: 0.000003  \n",
      "EVAL: [0/16] Elapsed 0m 2s (remain 0m 38s) Loss: 0.6631 \n",
      "EVAL: [15/16] Elapsed 0m 9s (remain 0m 0s) Loss: 0.6420 \n"
     ]
    },
    {
     "name": "stderr",
     "output_type": "stream",
     "text": [
      "Epoch 7 - avg_train_loss: 0.6421  avg_val_loss: 0.6420  time: 111s\n",
      "Epoch 7 - Score: 17.611071540834043\n"
     ]
    },
    {
     "name": "stdout",
     "output_type": "stream",
     "text": [
      "EarlyStopping counter: 3 out of 10\n",
      "Epoch: [8][0/139] Elapsed 0m 2s (remain 6m 53s) Loss: 0.6151 Grad: 0.5378 LR: 0.000003  \n",
      "Epoch: [8][100/139] Elapsed 1m 13s (remain 0m 27s) Loss: 0.6417 Grad: 0.7243 LR: 0.000002  \n",
      "Epoch: [8][138/139] Elapsed 1m 40s (remain 0m 0s) Loss: 0.6414 Grad: 0.5660 LR: 0.000002  \n",
      "EVAL: [0/16] Elapsed 0m 2s (remain 0m 37s) Loss: 0.6640 \n",
      "EVAL: [15/16] Elapsed 0m 9s (remain 0m 0s) Loss: 0.6411 \n"
     ]
    },
    {
     "name": "stderr",
     "output_type": "stream",
     "text": [
      "Epoch 8 - avg_train_loss: 0.6414  avg_val_loss: 0.6411  time: 111s\n",
      "Epoch 8 - Score: 17.508974908298274\n"
     ]
    },
    {
     "name": "stdout",
     "output_type": "stream",
     "text": [
      "Validation loss decreased (0.641260 --> 0.641060).  Saving model ...\n",
      "Epoch: [9][0/139] Elapsed 0m 2s (remain 6m 47s) Loss: 0.6459 Grad: 0.8599 LR: 0.000002  \n",
      "Epoch: [9][100/139] Elapsed 1m 13s (remain 0m 27s) Loss: 0.6275 Grad: 0.5311 LR: 0.000001  \n",
      "Epoch: [9][138/139] Elapsed 1m 39s (remain 0m 0s) Loss: 0.6272 Grad: 0.8207 LR: 0.000001  \n",
      "EVAL: [0/16] Elapsed 0m 2s (remain 0m 34s) Loss: 0.6617 \n",
      "EVAL: [15/16] Elapsed 0m 9s (remain 0m 0s) Loss: 0.6413 \n"
     ]
    },
    {
     "name": "stderr",
     "output_type": "stream",
     "text": [
      "Epoch 9 - avg_train_loss: 0.6272  avg_val_loss: 0.6413  time: 109s\n",
      "Epoch 9 - Score: 17.520238938859244\n"
     ]
    },
    {
     "name": "stdout",
     "output_type": "stream",
     "text": [
      "EarlyStopping counter: 1 out of 10\n",
      "Epoch: [10][0/139] Elapsed 0m 2s (remain 6m 37s) Loss: 0.6217 Grad: 0.7089 LR: 0.000001  \n",
      "Epoch: [10][100/139] Elapsed 1m 13s (remain 0m 27s) Loss: 0.6252 Grad: 0.3903 LR: 0.000001  \n",
      "Epoch: [10][138/139] Elapsed 1m 39s (remain 0m 0s) Loss: 0.6259 Grad: 0.5062 LR: 0.000010  \n",
      "EVAL: [0/16] Elapsed 0m 2s (remain 0m 39s) Loss: 0.6617 \n",
      "EVAL: [15/16] Elapsed 0m 9s (remain 0m 0s) Loss: 0.6418 \n"
     ]
    },
    {
     "name": "stderr",
     "output_type": "stream",
     "text": [
      "Epoch 10 - avg_train_loss: 0.6259  avg_val_loss: 0.6418  time: 110s\n",
      "Epoch 10 - Score: 17.56913871304037\n",
      "========== fold: 0 result ==========\n",
      "Score: 17.50897\n",
      "========== fold: 1 training ==========\n"
     ]
    },
    {
     "name": "stdout",
     "output_type": "stream",
     "text": [
      "EarlyStopping counter: 2 out of 10\n",
      "Epoch: [1][0/139] Elapsed 0m 3s (remain 7m 7s) Loss: 0.6991 Grad: 0.5142 LR: 0.000010  \n",
      "Epoch: [1][100/139] Elapsed 1m 12s (remain 0m 27s) Loss: 0.6555 Grad: 0.3400 LR: 0.000010  \n",
      "Epoch: [1][138/139] Elapsed 1m 39s (remain 0m 0s) Loss: 0.6528 Grad: 0.3144 LR: 0.000010  \n",
      "EVAL: [0/16] Elapsed 0m 2s (remain 0m 38s) Loss: 0.6324 \n",
      "EVAL: [15/16] Elapsed 0m 9s (remain 0m 0s) Loss: 0.6417 \n"
     ]
    },
    {
     "name": "stderr",
     "output_type": "stream",
     "text": [
      "Epoch 1 - avg_train_loss: 0.6528  avg_val_loss: 0.6417  time: 109s\n",
      "Epoch 1 - Score: 17.877884053655954\n"
     ]
    },
    {
     "name": "stdout",
     "output_type": "stream",
     "text": [
      "Validation loss decreased (inf --> 0.641654).  Saving model ...\n",
      "Epoch: [2][0/139] Elapsed 0m 2s (remain 6m 46s) Loss: 0.6331 Grad: 0.2600 LR: 0.000010  \n",
      "Epoch: [2][100/139] Elapsed 1m 12s (remain 0m 27s) Loss: 0.6394 Grad: 0.4233 LR: 0.000009  \n",
      "Epoch: [2][138/139] Elapsed 1m 39s (remain 0m 0s) Loss: 0.6388 Grad: 0.3587 LR: 0.000009  \n",
      "EVAL: [0/16] Elapsed 0m 2s (remain 0m 40s) Loss: 0.6282 \n",
      "EVAL: [15/16] Elapsed 0m 9s (remain 0m 0s) Loss: 0.6386 \n"
     ]
    },
    {
     "name": "stderr",
     "output_type": "stream",
     "text": [
      "Epoch 2 - avg_train_loss: 0.6388  avg_val_loss: 0.6386  time: 109s\n",
      "Epoch 2 - Score: 17.466903167121703\n"
     ]
    },
    {
     "name": "stdout",
     "output_type": "stream",
     "text": [
      "Validation loss decreased (0.641654 --> 0.638602).  Saving model ...\n",
      "Epoch: [3][0/139] Elapsed 0m 3s (remain 7m 39s) Loss: 0.6375 Grad: 1.0733 LR: 0.000009  \n",
      "Epoch: [3][100/139] Elapsed 1m 14s (remain 0m 27s) Loss: 0.6476 Grad: 0.6674 LR: 0.000008  \n",
      "Epoch: [3][138/139] Elapsed 1m 40s (remain 0m 0s) Loss: 0.6474 Grad: 0.6528 LR: 0.000008  \n",
      "EVAL: [0/16] Elapsed 0m 2s (remain 0m 38s) Loss: 0.6280 \n",
      "EVAL: [15/16] Elapsed 0m 9s (remain 0m 0s) Loss: 0.6383 \n"
     ]
    },
    {
     "name": "stderr",
     "output_type": "stream",
     "text": [
      "Epoch 3 - avg_train_loss: 0.6474  avg_val_loss: 0.6383  time: 111s\n",
      "Epoch 3 - Score: 17.4262092865963\n"
     ]
    },
    {
     "name": "stdout",
     "output_type": "stream",
     "text": [
      "Validation loss decreased (0.638602 --> 0.638297).  Saving model ...\n",
      "Epoch: [4][0/139] Elapsed 0m 3s (remain 7m 44s) Loss: 0.6572 Grad: 0.4973 LR: 0.000008  \n",
      "Epoch: [4][100/139] Elapsed 1m 14s (remain 0m 28s) Loss: 0.6484 Grad: 0.5422 LR: 0.000007  \n",
      "Epoch: [4][138/139] Elapsed 1m 41s (remain 0m 0s) Loss: 0.6483 Grad: 0.6660 LR: 0.000007  \n",
      "EVAL: [0/16] Elapsed 0m 2s (remain 0m 40s) Loss: 0.6305 \n",
      "EVAL: [15/16] Elapsed 0m 9s (remain 0m 0s) Loss: 0.6376 \n"
     ]
    },
    {
     "name": "stderr",
     "output_type": "stream",
     "text": [
      "Epoch 4 - avg_train_loss: 0.6483  avg_val_loss: 0.6376  time: 111s\n",
      "Epoch 4 - Score: 17.35242116754598\n"
     ]
    },
    {
     "name": "stdout",
     "output_type": "stream",
     "text": [
      "Validation loss decreased (0.638297 --> 0.637644).  Saving model ...\n",
      "Epoch: [5][0/139] Elapsed 0m 3s (remain 7m 54s) Loss: 0.6662 Grad: 0.6432 LR: 0.000007  \n",
      "Epoch: [5][100/139] Elapsed 1m 14s (remain 0m 27s) Loss: 0.6451 Grad: inf LR: 0.000006  \n",
      "Epoch: [5][138/139] Elapsed 1m 40s (remain 0m 0s) Loss: 0.6461 Grad: 0.5484 LR: 0.000005  \n",
      "EVAL: [0/16] Elapsed 0m 2s (remain 0m 41s) Loss: 0.6290 \n",
      "EVAL: [15/16] Elapsed 0m 9s (remain 0m 0s) Loss: 0.6376 \n"
     ]
    },
    {
     "name": "stderr",
     "output_type": "stream",
     "text": [
      "Epoch 5 - avg_train_loss: 0.6461  avg_val_loss: 0.6376  time: 111s\n",
      "Epoch 5 - Score: 17.334475213830896\n"
     ]
    },
    {
     "name": "stdout",
     "output_type": "stream",
     "text": [
      "Validation loss decreased (0.637644 --> 0.637559).  Saving model ...\n",
      "Epoch: [6][0/139] Elapsed 0m 3s (remain 7m 58s) Loss: 0.6227 Grad: 0.6028 LR: 0.000005  \n",
      "Epoch: [6][100/139] Elapsed 1m 14s (remain 0m 28s) Loss: 0.6442 Grad: 0.5079 LR: 0.000004  \n",
      "Epoch: [6][138/139] Elapsed 1m 41s (remain 0m 0s) Loss: 0.6435 Grad: 0.5525 LR: 0.000004  \n",
      "EVAL: [0/16] Elapsed 0m 2s (remain 0m 44s) Loss: 0.6289 \n",
      "EVAL: [15/16] Elapsed 0m 9s (remain 0m 0s) Loss: 0.6376 \n"
     ]
    },
    {
     "name": "stderr",
     "output_type": "stream",
     "text": [
      "Epoch 6 - avg_train_loss: 0.6435  avg_val_loss: 0.6376  time: 112s\n",
      "Epoch 6 - Score: 17.330945365556158\n"
     ]
    },
    {
     "name": "stdout",
     "output_type": "stream",
     "text": [
      "EarlyStopping counter: 1 out of 10\n",
      "Epoch: [7][0/139] Elapsed 0m 3s (remain 7m 38s) Loss: 0.6476 Grad: 0.6016 LR: 0.000004  \n",
      "Epoch: [7][100/139] Elapsed 1m 14s (remain 0m 28s) Loss: 0.6397 Grad: 0.4728 LR: 0.000003  \n",
      "Epoch: [7][138/139] Elapsed 1m 41s (remain 0m 0s) Loss: 0.6410 Grad: 0.4756 LR: 0.000003  \n",
      "EVAL: [0/16] Elapsed 0m 2s (remain 0m 38s) Loss: 0.6285 \n",
      "EVAL: [15/16] Elapsed 0m 9s (remain 0m 0s) Loss: 0.6379 \n"
     ]
    },
    {
     "name": "stderr",
     "output_type": "stream",
     "text": [
      "Epoch 7 - avg_train_loss: 0.6410  avg_val_loss: 0.6379  time: 111s\n",
      "Epoch 7 - Score: 17.36874073643237\n"
     ]
    },
    {
     "name": "stdout",
     "output_type": "stream",
     "text": [
      "EarlyStopping counter: 2 out of 10\n",
      "Epoch: [8][0/139] Elapsed 0m 3s (remain 7m 39s) Loss: 0.6684 Grad: 0.8052 LR: 0.000003  \n",
      "Epoch: [8][100/139] Elapsed 1m 14s (remain 0m 28s) Loss: 0.6412 Grad: 0.6274 LR: 0.000002  \n",
      "Epoch: [8][138/139] Elapsed 1m 41s (remain 0m 0s) Loss: 0.6409 Grad: 2.2095 LR: 0.000002  \n",
      "EVAL: [0/16] Elapsed 0m 2s (remain 0m 36s) Loss: 0.6280 \n",
      "EVAL: [15/16] Elapsed 0m 9s (remain 0m 0s) Loss: 0.6376 \n"
     ]
    },
    {
     "name": "stderr",
     "output_type": "stream",
     "text": [
      "Epoch 8 - avg_train_loss: 0.6409  avg_val_loss: 0.6376  time: 111s\n",
      "Epoch 8 - Score: 17.329560824564794\n"
     ]
    },
    {
     "name": "stdout",
     "output_type": "stream",
     "text": [
      "EarlyStopping counter: 3 out of 10\n",
      "Epoch: [9][0/139] Elapsed 0m 3s (remain 7m 0s) Loss: 0.6318 Grad: 0.3101 LR: 0.000002  \n",
      "Epoch: [9][100/139] Elapsed 1m 13s (remain 0m 27s) Loss: 0.6281 Grad: 0.4194 LR: 0.000001  \n",
      "Epoch: [9][138/139] Elapsed 1m 39s (remain 0m 0s) Loss: 0.6275 Grad: 0.5941 LR: 0.000001  \n",
      "EVAL: [0/16] Elapsed 0m 2s (remain 0m 43s) Loss: 0.6272 \n",
      "EVAL: [15/16] Elapsed 0m 9s (remain 0m 0s) Loss: 0.6377 \n"
     ]
    },
    {
     "name": "stderr",
     "output_type": "stream",
     "text": [
      "Epoch 9 - avg_train_loss: 0.6275  avg_val_loss: 0.6377  time: 110s\n",
      "Epoch 9 - Score: 17.342652652151678\n"
     ]
    },
    {
     "name": "stdout",
     "output_type": "stream",
     "text": [
      "EarlyStopping counter: 4 out of 10\n",
      "Epoch: [10][0/139] Elapsed 0m 2s (remain 6m 40s) Loss: 0.6200 Grad: 0.3646 LR: 0.000001  \n",
      "Epoch: [10][100/139] Elapsed 1m 12s (remain 0m 27s) Loss: 0.6273 Grad: 0.6242 LR: 0.000001  \n",
      "Epoch: [10][138/139] Elapsed 1m 38s (remain 0m 0s) Loss: 0.6265 Grad: 0.3083 LR: 0.000010  \n",
      "EVAL: [0/16] Elapsed 0m 2s (remain 0m 39s) Loss: 0.6262 \n",
      "EVAL: [15/16] Elapsed 0m 9s (remain 0m 0s) Loss: 0.6381 \n"
     ]
    },
    {
     "name": "stderr",
     "output_type": "stream",
     "text": [
      "Epoch 10 - avg_train_loss: 0.6265  avg_val_loss: 0.6381  time: 109s\n",
      "Epoch 10 - Score: 17.377878260094903\n",
      "========== fold: 1 result ==========\n",
      "Score: 17.33448\n",
      "========== fold: 2 training ==========\n"
     ]
    },
    {
     "name": "stdout",
     "output_type": "stream",
     "text": [
      "EarlyStopping counter: 5 out of 10\n",
      "Epoch: [1][0/139] Elapsed 0m 3s (remain 7m 10s) Loss: 0.6780 Grad: 0.6156 LR: 0.000010  \n",
      "Epoch: [1][100/139] Elapsed 1m 13s (remain 0m 27s) Loss: 0.6542 Grad: 0.3123 LR: 0.000010  \n",
      "Epoch: [1][138/139] Elapsed 1m 39s (remain 0m 0s) Loss: 0.6523 Grad: 0.3142 LR: 0.000010  \n",
      "EVAL: [0/16] Elapsed 0m 2s (remain 0m 42s) Loss: 0.6380 \n",
      "EVAL: [15/16] Elapsed 0m 9s (remain 0m 0s) Loss: 0.6454 \n"
     ]
    },
    {
     "name": "stderr",
     "output_type": "stream",
     "text": [
      "Epoch 1 - avg_train_loss: 0.6523  avg_val_loss: 0.6454  time: 110s\n",
      "Epoch 1 - Score: 18.40701133289062\n"
     ]
    },
    {
     "name": "stdout",
     "output_type": "stream",
     "text": [
      "Validation loss decreased (inf --> 0.645409).  Saving model ...\n",
      "Epoch: [2][0/139] Elapsed 0m 2s (remain 6m 50s) Loss: 0.6214 Grad: 0.3401 LR: 0.000010  \n",
      "Epoch: [2][100/139] Elapsed 1m 13s (remain 0m 27s) Loss: 0.6393 Grad: 0.6370 LR: 0.000009  \n",
      "Epoch: [2][138/139] Elapsed 1m 40s (remain 0m 0s) Loss: 0.6389 Grad: 0.4934 LR: 0.000009  \n",
      "EVAL: [0/16] Elapsed 0m 2s (remain 0m 37s) Loss: 0.6406 \n",
      "EVAL: [15/16] Elapsed 0m 9s (remain 0m 0s) Loss: 0.6480 \n"
     ]
    },
    {
     "name": "stderr",
     "output_type": "stream",
     "text": [
      "Epoch 2 - avg_train_loss: 0.6389  avg_val_loss: 0.6480  time: 110s\n",
      "Epoch 2 - Score: 18.682260679352343\n"
     ]
    },
    {
     "name": "stdout",
     "output_type": "stream",
     "text": [
      "EarlyStopping counter: 1 out of 10\n",
      "Epoch: [3][0/139] Elapsed 0m 3s (remain 7m 26s) Loss: 0.6649 Grad: 0.7885 LR: 0.000009  \n",
      "Epoch: [3][100/139] Elapsed 1m 14s (remain 0m 28s) Loss: 0.6503 Grad: 0.7341 LR: 0.000008  \n",
      "Epoch: [3][138/139] Elapsed 1m 41s (remain 0m 0s) Loss: 0.6496 Grad: 0.6478 LR: 0.000008  \n",
      "EVAL: [0/16] Elapsed 0m 2s (remain 0m 38s) Loss: 0.6405 \n",
      "EVAL: [15/16] Elapsed 0m 9s (remain 0m 0s) Loss: 0.6435 \n"
     ]
    },
    {
     "name": "stderr",
     "output_type": "stream",
     "text": [
      "Epoch 3 - avg_train_loss: 0.6496  avg_val_loss: 0.6435  time: 111s\n",
      "Epoch 3 - Score: 18.183114897712212\n"
     ]
    },
    {
     "name": "stdout",
     "output_type": "stream",
     "text": [
      "Validation loss decreased (0.645409 --> 0.643506).  Saving model ...\n",
      "Epoch: [4][0/139] Elapsed 0m 3s (remain 7m 10s) Loss: 0.6389 Grad: 1.9688 LR: 0.000008  \n",
      "Epoch: [4][100/139] Elapsed 1m 14s (remain 0m 27s) Loss: 0.6472 Grad: 1.0712 LR: 0.000007  \n",
      "Epoch: [4][138/139] Elapsed 1m 40s (remain 0m 0s) Loss: 0.6468 Grad: 0.6041 LR: 0.000007  \n",
      "EVAL: [0/16] Elapsed 0m 2s (remain 0m 37s) Loss: 0.6408 \n",
      "EVAL: [15/16] Elapsed 0m 9s (remain 0m 0s) Loss: 0.6443 \n"
     ]
    },
    {
     "name": "stderr",
     "output_type": "stream",
     "text": [
      "Epoch 4 - avg_train_loss: 0.6468  avg_val_loss: 0.6443  time: 111s\n",
      "Epoch 4 - Score: 18.2616661748941\n"
     ]
    },
    {
     "name": "stdout",
     "output_type": "stream",
     "text": [
      "EarlyStopping counter: 1 out of 10\n",
      "Epoch: [5][0/139] Elapsed 0m 3s (remain 7m 28s) Loss: 0.6522 Grad: 0.7224 LR: 0.000007  \n",
      "Epoch: [5][100/139] Elapsed 1m 14s (remain 0m 28s) Loss: 0.6468 Grad: 0.4768 LR: 0.000006  \n",
      "Epoch: [5][138/139] Elapsed 1m 41s (remain 0m 0s) Loss: 0.6454 Grad: 0.4337 LR: 0.000005  \n",
      "EVAL: [0/16] Elapsed 0m 2s (remain 0m 39s) Loss: 0.6425 \n",
      "EVAL: [15/16] Elapsed 0m 9s (remain 0m 0s) Loss: 0.6445 \n"
     ]
    },
    {
     "name": "stderr",
     "output_type": "stream",
     "text": [
      "Epoch 5 - avg_train_loss: 0.6454  avg_val_loss: 0.6445  time: 111s\n",
      "Epoch 5 - Score: 18.28981719605867\n"
     ]
    },
    {
     "name": "stdout",
     "output_type": "stream",
     "text": [
      "EarlyStopping counter: 2 out of 10\n",
      "Epoch: [6][0/139] Elapsed 0m 3s (remain 7m 34s) Loss: 0.6355 Grad: 0.6583 LR: 0.000005  \n",
      "Epoch: [6][100/139] Elapsed 1m 14s (remain 0m 27s) Loss: 0.6424 Grad: 1.1177 LR: 0.000004  \n",
      "Epoch: [6][138/139] Elapsed 1m 40s (remain 0m 0s) Loss: 0.6435 Grad: 0.9447 LR: 0.000004  \n",
      "EVAL: [0/16] Elapsed 0m 2s (remain 0m 39s) Loss: 0.6427 \n",
      "EVAL: [15/16] Elapsed 0m 9s (remain 0m 0s) Loss: 0.6445 \n"
     ]
    },
    {
     "name": "stderr",
     "output_type": "stream",
     "text": [
      "Epoch 6 - avg_train_loss: 0.6435  avg_val_loss: 0.6445  time: 111s\n",
      "Epoch 6 - Score: 18.311137087590794\n"
     ]
    },
    {
     "name": "stdout",
     "output_type": "stream",
     "text": [
      "EarlyStopping counter: 3 out of 10\n",
      "Epoch: [7][0/139] Elapsed 0m 3s (remain 8m 5s) Loss: 0.6602 Grad: 0.9499 LR: 0.000004  \n",
      "Epoch: [7][100/139] Elapsed 1m 14s (remain 0m 27s) Loss: 0.6437 Grad: 0.4982 LR: 0.000003  \n",
      "Epoch: [7][138/139] Elapsed 1m 40s (remain 0m 0s) Loss: 0.6427 Grad: 0.6527 LR: 0.000003  \n",
      "EVAL: [0/16] Elapsed 0m 2s (remain 0m 42s) Loss: 0.6433 \n",
      "EVAL: [15/16] Elapsed 0m 9s (remain 0m 0s) Loss: 0.6447 \n"
     ]
    },
    {
     "name": "stderr",
     "output_type": "stream",
     "text": [
      "Epoch 7 - avg_train_loss: 0.6427  avg_val_loss: 0.6447  time: 111s\n",
      "Epoch 7 - Score: 18.332917531818616\n"
     ]
    },
    {
     "name": "stdout",
     "output_type": "stream",
     "text": [
      "EarlyStopping counter: 4 out of 10\n",
      "Epoch: [8][0/139] Elapsed 0m 3s (remain 7m 28s) Loss: 0.6535 Grad: 1.5713 LR: 0.000003  \n",
      "Epoch: [8][100/139] Elapsed 1m 14s (remain 0m 27s) Loss: 0.6407 Grad: 0.6908 LR: 0.000002  \n",
      "Epoch: [8][138/139] Elapsed 1m 40s (remain 0m 0s) Loss: 0.6408 Grad: 0.9784 LR: 0.000002  \n",
      "EVAL: [0/16] Elapsed 0m 2s (remain 0m 37s) Loss: 0.6435 \n",
      "EVAL: [15/16] Elapsed 0m 9s (remain 0m 0s) Loss: 0.6447 \n"
     ]
    },
    {
     "name": "stderr",
     "output_type": "stream",
     "text": [
      "Epoch 8 - avg_train_loss: 0.6408  avg_val_loss: 0.6447  time: 111s\n",
      "Epoch 8 - Score: 18.33586807880988\n"
     ]
    },
    {
     "name": "stdout",
     "output_type": "stream",
     "text": [
      "EarlyStopping counter: 5 out of 10\n",
      "Epoch: [9][0/139] Elapsed 0m 2s (remain 6m 53s) Loss: 0.6518 Grad: 0.4833 LR: 0.000002  \n",
      "Epoch: [9][100/139] Elapsed 1m 13s (remain 0m 27s) Loss: 0.6274 Grad: 0.4848 LR: 0.000001  \n",
      "Epoch: [9][138/139] Elapsed 1m 39s (remain 0m 0s) Loss: 0.6277 Grad: 0.4657 LR: 0.000001  \n",
      "EVAL: [0/16] Elapsed 0m 2s (remain 0m 38s) Loss: 0.6419 \n",
      "EVAL: [15/16] Elapsed 0m 9s (remain 0m 0s) Loss: 0.6445 \n"
     ]
    },
    {
     "name": "stderr",
     "output_type": "stream",
     "text": [
      "Epoch 9 - avg_train_loss: 0.6277  avg_val_loss: 0.6445  time: 110s\n",
      "Epoch 9 - Score: 18.298985280173145\n"
     ]
    },
    {
     "name": "stdout",
     "output_type": "stream",
     "text": [
      "EarlyStopping counter: 6 out of 10\n",
      "Epoch: [10][0/139] Elapsed 0m 3s (remain 7m 19s) Loss: 0.6274 Grad: 0.3736 LR: 0.000001  \n",
      "Epoch: [10][100/139] Elapsed 1m 13s (remain 0m 27s) Loss: 0.6249 Grad: 0.4355 LR: 0.000001  \n",
      "Epoch: [10][138/139] Elapsed 1m 39s (remain 0m 0s) Loss: 0.6261 Grad: 0.5042 LR: 0.000010  \n",
      "EVAL: [0/16] Elapsed 0m 2s (remain 0m 37s) Loss: 0.6441 \n",
      "EVAL: [15/16] Elapsed 0m 9s (remain 0m 0s) Loss: 0.6449 \n"
     ]
    },
    {
     "name": "stderr",
     "output_type": "stream",
     "text": [
      "Epoch 10 - avg_train_loss: 0.6261  avg_val_loss: 0.6449  time: 110s\n",
      "Epoch 10 - Score: 18.360188252217913\n",
      "========== fold: 2 result ==========\n",
      "Score: 18.18311\n",
      "========== fold: 3 training ==========\n"
     ]
    },
    {
     "name": "stdout",
     "output_type": "stream",
     "text": [
      "EarlyStopping counter: 7 out of 10\n",
      "Epoch: [1][0/139] Elapsed 0m 3s (remain 7m 6s) Loss: 0.6949 Grad: 0.6537 LR: 0.000010  \n",
      "Epoch: [1][100/139] Elapsed 1m 13s (remain 0m 27s) Loss: 0.6542 Grad: 0.3221 LR: 0.000010  \n",
      "Epoch: [1][138/139] Elapsed 1m 39s (remain 0m 0s) Loss: 0.6523 Grad: 0.4514 LR: 0.000010  \n",
      "EVAL: [0/16] Elapsed 0m 2s (remain 0m 39s) Loss: 0.6419 \n",
      "EVAL: [15/16] Elapsed 0m 9s (remain 0m 0s) Loss: 0.6408 \n"
     ]
    },
    {
     "name": "stderr",
     "output_type": "stream",
     "text": [
      "Epoch 1 - avg_train_loss: 0.6523  avg_val_loss: 0.6408  time: 110s\n",
      "Epoch 1 - Score: 17.618470104781846\n"
     ]
    },
    {
     "name": "stdout",
     "output_type": "stream",
     "text": [
      "Validation loss decreased (inf --> 0.640781).  Saving model ...\n",
      "Epoch: [2][0/139] Elapsed 0m 3s (remain 7m 22s) Loss: 0.6426 Grad: 0.3552 LR: 0.000010  \n",
      "Epoch: [2][100/139] Elapsed 1m 13s (remain 0m 27s) Loss: 0.6399 Grad: 0.3866 LR: 0.000009  \n",
      "Epoch: [2][138/139] Elapsed 1m 40s (remain 0m 0s) Loss: 0.6393 Grad: 0.4891 LR: 0.000009  \n",
      "EVAL: [0/16] Elapsed 0m 2s (remain 0m 41s) Loss: 0.6424 \n",
      "EVAL: [15/16] Elapsed 0m 9s (remain 0m 0s) Loss: 0.6378 \n"
     ]
    },
    {
     "name": "stderr",
     "output_type": "stream",
     "text": [
      "Epoch 2 - avg_train_loss: 0.6393  avg_val_loss: 0.6378  time: 110s\n",
      "Epoch 2 - Score: 17.218517987470673\n"
     ]
    },
    {
     "name": "stdout",
     "output_type": "stream",
     "text": [
      "Validation loss decreased (0.640781 --> 0.637850).  Saving model ...\n",
      "Epoch: [3][0/139] Elapsed 0m 3s (remain 7m 27s) Loss: 0.6495 Grad: 0.4330 LR: 0.000009  \n",
      "Epoch: [3][100/139] Elapsed 1m 14s (remain 0m 28s) Loss: 0.6511 Grad: 0.9887 LR: 0.000008  \n",
      "Epoch: [3][138/139] Elapsed 1m 41s (remain 0m 0s) Loss: 0.6501 Grad: 0.7111 LR: 0.000008  \n",
      "EVAL: [0/16] Elapsed 0m 2s (remain 0m 38s) Loss: 0.6408 \n",
      "EVAL: [15/16] Elapsed 0m 9s (remain 0m 0s) Loss: 0.6370 \n"
     ]
    },
    {
     "name": "stderr",
     "output_type": "stream",
     "text": [
      "Epoch 3 - avg_train_loss: 0.6501  avg_val_loss: 0.6370  time: 111s\n",
      "Epoch 3 - Score: 17.10945376233432\n"
     ]
    },
    {
     "name": "stdout",
     "output_type": "stream",
     "text": [
      "Validation loss decreased (0.637850 --> 0.636975).  Saving model ...\n",
      "Epoch: [4][0/139] Elapsed 0m 3s (remain 7m 47s) Loss: 0.6517 Grad: 0.4907 LR: 0.000008  \n",
      "Epoch: [4][100/139] Elapsed 1m 14s (remain 0m 28s) Loss: 0.6467 Grad: 0.8838 LR: 0.000007  \n",
      "Epoch: [4][138/139] Elapsed 1m 41s (remain 0m 0s) Loss: 0.6470 Grad: 0.7948 LR: 0.000007  \n",
      "EVAL: [0/16] Elapsed 0m 2s (remain 0m 39s) Loss: 0.6413 \n",
      "EVAL: [15/16] Elapsed 0m 9s (remain 0m 0s) Loss: 0.6358 \n"
     ]
    },
    {
     "name": "stderr",
     "output_type": "stream",
     "text": [
      "Epoch 4 - avg_train_loss: 0.6470  avg_val_loss: 0.6358  time: 111s\n",
      "Epoch 4 - Score: 16.948705360863293\n"
     ]
    },
    {
     "name": "stdout",
     "output_type": "stream",
     "text": [
      "Validation loss decreased (0.636975 --> 0.635758).  Saving model ...\n",
      "Epoch: [5][0/139] Elapsed 0m 3s (remain 7m 40s) Loss: 0.6572 Grad: 8.5581 LR: 0.000007  \n",
      "Epoch: [5][100/139] Elapsed 1m 14s (remain 0m 27s) Loss: 0.6448 Grad: 0.8170 LR: 0.000006  \n",
      "Epoch: [5][138/139] Elapsed 1m 40s (remain 0m 0s) Loss: 0.6451 Grad: 0.7756 LR: 0.000005  \n",
      "EVAL: [0/16] Elapsed 0m 2s (remain 0m 40s) Loss: 0.6403 \n",
      "EVAL: [15/16] Elapsed 0m 9s (remain 0m 0s) Loss: 0.6363 \n"
     ]
    },
    {
     "name": "stderr",
     "output_type": "stream",
     "text": [
      "Epoch 5 - avg_train_loss: 0.6451  avg_val_loss: 0.6363  time: 111s\n",
      "Epoch 5 - Score: 17.026549946737187\n"
     ]
    },
    {
     "name": "stdout",
     "output_type": "stream",
     "text": [
      "EarlyStopping counter: 1 out of 10\n",
      "Epoch: [6][0/139] Elapsed 0m 3s (remain 7m 20s) Loss: 0.6225 Grad: 0.4038 LR: 0.000005  \n",
      "Epoch: [6][100/139] Elapsed 1m 13s (remain 0m 27s) Loss: 0.6420 Grad: 0.5716 LR: 0.000004  \n",
      "Epoch: [6][138/139] Elapsed 1m 40s (remain 0m 0s) Loss: 0.6433 Grad: 0.8061 LR: 0.000004  \n",
      "EVAL: [0/16] Elapsed 0m 2s (remain 0m 41s) Loss: 0.6426 \n",
      "EVAL: [15/16] Elapsed 0m 9s (remain 0m 0s) Loss: 0.6367 \n"
     ]
    },
    {
     "name": "stderr",
     "output_type": "stream",
     "text": [
      "Epoch 6 - avg_train_loss: 0.6433  avg_val_loss: 0.6367  time: 110s\n",
      "Epoch 6 - Score: 17.080622652405093\n"
     ]
    },
    {
     "name": "stdout",
     "output_type": "stream",
     "text": [
      "EarlyStopping counter: 2 out of 10\n",
      "Epoch: [7][0/139] Elapsed 0m 3s (remain 7m 42s) Loss: 0.6277 Grad: 0.6313 LR: 0.000004  \n",
      "Epoch: [7][100/139] Elapsed 1m 14s (remain 0m 27s) Loss: 0.6409 Grad: 0.9232 LR: 0.000003  \n",
      "Epoch: [7][138/139] Elapsed 1m 41s (remain 0m 0s) Loss: 0.6411 Grad: 0.6795 LR: 0.000003  \n",
      "EVAL: [0/16] Elapsed 0m 2s (remain 0m 37s) Loss: 0.6434 \n",
      "EVAL: [15/16] Elapsed 0m 9s (remain 0m 0s) Loss: 0.6369 \n"
     ]
    },
    {
     "name": "stderr",
     "output_type": "stream",
     "text": [
      "Epoch 7 - avg_train_loss: 0.6411  avg_val_loss: 0.6369  time: 111s\n",
      "Epoch 7 - Score: 17.094611328197658\n"
     ]
    },
    {
     "name": "stdout",
     "output_type": "stream",
     "text": [
      "EarlyStopping counter: 3 out of 10\n",
      "Epoch: [8][0/139] Elapsed 0m 3s (remain 7m 13s) Loss: 0.6128 Grad: 0.6315 LR: 0.000003  \n",
      "Epoch: [8][100/139] Elapsed 1m 13s (remain 0m 27s) Loss: 0.6412 Grad: 0.6568 LR: 0.000002  \n",
      "Epoch: [8][138/139] Elapsed 1m 40s (remain 0m 0s) Loss: 0.6414 Grad: 0.4925 LR: 0.000002  \n",
      "EVAL: [0/16] Elapsed 0m 2s (remain 0m 38s) Loss: 0.6428 \n",
      "EVAL: [15/16] Elapsed 0m 9s (remain 0m 0s) Loss: 0.6370 \n"
     ]
    },
    {
     "name": "stderr",
     "output_type": "stream",
     "text": [
      "Epoch 8 - avg_train_loss: 0.6414  avg_val_loss: 0.6370  time: 110s\n",
      "Epoch 8 - Score: 17.112542378247774\n"
     ]
    },
    {
     "name": "stdout",
     "output_type": "stream",
     "text": [
      "EarlyStopping counter: 4 out of 10\n",
      "Epoch: [9][0/139] Elapsed 0m 2s (remain 6m 53s) Loss: 0.6139 Grad: 0.3280 LR: 0.000002  \n",
      "Epoch: [9][100/139] Elapsed 1m 13s (remain 0m 27s) Loss: 0.6283 Grad: 0.4611 LR: 0.000001  \n",
      "Epoch: [9][138/139] Elapsed 1m 39s (remain 0m 0s) Loss: 0.6280 Grad: 0.3362 LR: 0.000001  \n",
      "EVAL: [0/16] Elapsed 0m 2s (remain 0m 42s) Loss: 0.6424 \n",
      "EVAL: [15/16] Elapsed 0m 9s (remain 0m 0s) Loss: 0.6366 \n"
     ]
    },
    {
     "name": "stderr",
     "output_type": "stream",
     "text": [
      "Epoch 9 - avg_train_loss: 0.6280  avg_val_loss: 0.6366  time: 110s\n",
      "Epoch 9 - Score: 17.058270258716163\n"
     ]
    },
    {
     "name": "stdout",
     "output_type": "stream",
     "text": [
      "EarlyStopping counter: 5 out of 10\n",
      "Epoch: [10][0/139] Elapsed 0m 3s (remain 7m 19s) Loss: 0.6197 Grad: 0.8431 LR: 0.000001  \n",
      "Epoch: [10][100/139] Elapsed 1m 13s (remain 0m 27s) Loss: 0.6262 Grad: 0.5063 LR: 0.000001  \n",
      "Epoch: [10][138/139] Elapsed 1m 39s (remain 0m 0s) Loss: 0.6265 Grad: 0.5613 LR: 0.000010  \n",
      "EVAL: [0/16] Elapsed 0m 2s (remain 0m 37s) Loss: 0.6422 \n",
      "EVAL: [15/16] Elapsed 0m 9s (remain 0m 0s) Loss: 0.6363 \n"
     ]
    },
    {
     "name": "stderr",
     "output_type": "stream",
     "text": [
      "Epoch 10 - avg_train_loss: 0.6265  avg_val_loss: 0.6363  time: 110s\n",
      "Epoch 10 - Score: 17.022747347575745\n",
      "========== fold: 3 result ==========\n",
      "Score: 16.94871\n",
      "========== fold: 4 training ==========\n"
     ]
    },
    {
     "name": "stdout",
     "output_type": "stream",
     "text": [
      "EarlyStopping counter: 6 out of 10\n",
      "Epoch: [1][0/139] Elapsed 0m 3s (remain 7m 19s) Loss: 0.6948 Grad: 0.5010 LR: 0.000010  \n",
      "Epoch: [1][100/139] Elapsed 1m 13s (remain 0m 27s) Loss: 0.6552 Grad: 0.2974 LR: 0.000010  \n",
      "Epoch: [1][138/139] Elapsed 1m 39s (remain 0m 0s) Loss: 0.6518 Grad: 0.3051 LR: 0.000010  \n",
      "EVAL: [0/16] Elapsed 0m 2s (remain 0m 42s) Loss: 0.6462 \n",
      "EVAL: [15/16] Elapsed 0m 9s (remain 0m 0s) Loss: 0.6452 \n"
     ]
    },
    {
     "name": "stderr",
     "output_type": "stream",
     "text": [
      "Epoch 1 - avg_train_loss: 0.6518  avg_val_loss: 0.6452  time: 110s\n",
      "Epoch 1 - Score: 18.367491281965492\n"
     ]
    },
    {
     "name": "stdout",
     "output_type": "stream",
     "text": [
      "Validation loss decreased (inf --> 0.645191).  Saving model ...\n",
      "Epoch: [2][0/139] Elapsed 0m 2s (remain 6m 53s) Loss: 0.6594 Grad: 0.4184 LR: 0.000010  \n",
      "Epoch: [2][100/139] Elapsed 1m 13s (remain 0m 27s) Loss: 0.6385 Grad: 0.2948 LR: 0.000009  \n",
      "Epoch: [2][138/139] Elapsed 1m 40s (remain 0m 0s) Loss: 0.6379 Grad: 0.3460 LR: 0.000009  \n",
      "EVAL: [0/16] Elapsed 0m 2s (remain 0m 39s) Loss: 0.6470 \n",
      "EVAL: [15/16] Elapsed 0m 9s (remain 0m 0s) Loss: 0.6434 \n"
     ]
    },
    {
     "name": "stderr",
     "output_type": "stream",
     "text": [
      "Epoch 2 - avg_train_loss: 0.6379  avg_val_loss: 0.6434  time: 110s\n",
      "Epoch 2 - Score: 18.132826210270647\n"
     ]
    },
    {
     "name": "stdout",
     "output_type": "stream",
     "text": [
      "Validation loss decreased (0.645191 --> 0.643427).  Saving model ...\n",
      "Epoch: [3][0/139] Elapsed 0m 3s (remain 8m 1s) Loss: 0.6416 Grad: 0.3874 LR: 0.000009  \n",
      "Epoch: [3][100/139] Elapsed 1m 14s (remain 0m 28s) Loss: 0.6483 Grad: 0.5131 LR: 0.000008  \n",
      "Epoch: [3][138/139] Elapsed 1m 41s (remain 0m 0s) Loss: 0.6495 Grad: 0.6765 LR: 0.000008  \n",
      "EVAL: [0/16] Elapsed 0m 2s (remain 0m 41s) Loss: 0.6421 \n",
      "EVAL: [15/16] Elapsed 0m 9s (remain 0m 0s) Loss: 0.6434 \n"
     ]
    },
    {
     "name": "stderr",
     "output_type": "stream",
     "text": [
      "Epoch 3 - avg_train_loss: 0.6495  avg_val_loss: 0.6434  time: 111s\n",
      "Epoch 3 - Score: 18.14493279791945\n"
     ]
    },
    {
     "name": "stdout",
     "output_type": "stream",
     "text": [
      "Validation loss decreased (0.643427 --> 0.643361).  Saving model ...\n",
      "Epoch: [4][0/139] Elapsed 0m 3s (remain 7m 20s) Loss: 0.6380 Grad: 0.9131 LR: 0.000008  \n",
      "Epoch: [4][100/139] Elapsed 1m 14s (remain 0m 27s) Loss: 0.6453 Grad: 0.6754 LR: 0.000007  \n",
      "Epoch: [4][138/139] Elapsed 1m 40s (remain 0m 0s) Loss: 0.6455 Grad: 0.5688 LR: 0.000007  \n",
      "EVAL: [0/16] Elapsed 0m 2s (remain 0m 39s) Loss: 0.6398 \n",
      "EVAL: [15/16] Elapsed 0m 9s (remain 0m 0s) Loss: 0.6431 \n"
     ]
    },
    {
     "name": "stderr",
     "output_type": "stream",
     "text": [
      "Epoch 4 - avg_train_loss: 0.6455  avg_val_loss: 0.6431  time: 111s\n",
      "Epoch 4 - Score: 18.102330341034452\n"
     ]
    },
    {
     "name": "stdout",
     "output_type": "stream",
     "text": [
      "Validation loss decreased (0.643361 --> 0.643113).  Saving model ...\n",
      "Epoch: [5][0/139] Elapsed 0m 3s (remain 7m 26s) Loss: 0.6595 Grad: 1.3676 LR: 0.000007  \n",
      "Epoch: [5][100/139] Elapsed 1m 13s (remain 0m 27s) Loss: 0.6465 Grad: 0.5305 LR: 0.000006  \n",
      "Epoch: [5][138/139] Elapsed 1m 40s (remain 0m 0s) Loss: 0.6464 Grad: 0.5410 LR: 0.000005  \n",
      "EVAL: [0/16] Elapsed 0m 2s (remain 0m 38s) Loss: 0.6408 \n",
      "EVAL: [15/16] Elapsed 0m 9s (remain 0m 0s) Loss: 0.6442 \n"
     ]
    },
    {
     "name": "stderr",
     "output_type": "stream",
     "text": [
      "Epoch 5 - avg_train_loss: 0.6464  avg_val_loss: 0.6442  time: 110s\n",
      "Epoch 5 - Score: 18.221708643416182\n"
     ]
    },
    {
     "name": "stdout",
     "output_type": "stream",
     "text": [
      "EarlyStopping counter: 1 out of 10\n",
      "Epoch: [6][0/139] Elapsed 0m 3s (remain 7m 42s) Loss: 0.6493 Grad: 0.4321 LR: 0.000005  \n",
      "Epoch: [6][100/139] Elapsed 1m 14s (remain 0m 27s) Loss: 0.6412 Grad: 1.2961 LR: 0.000004  \n",
      "Epoch: [6][138/139] Elapsed 1m 40s (remain 0m 0s) Loss: 0.6413 Grad: 1.1116 LR: 0.000004  \n",
      "EVAL: [0/16] Elapsed 0m 2s (remain 0m 38s) Loss: 0.6403 \n",
      "EVAL: [15/16] Elapsed 0m 9s (remain 0m 0s) Loss: 0.6440 \n"
     ]
    },
    {
     "name": "stderr",
     "output_type": "stream",
     "text": [
      "Epoch 6 - avg_train_loss: 0.6413  avg_val_loss: 0.6440  time: 111s\n",
      "Epoch 6 - Score: 18.203985771301124\n"
     ]
    },
    {
     "name": "stdout",
     "output_type": "stream",
     "text": [
      "EarlyStopping counter: 2 out of 10\n",
      "Epoch: [7][0/139] Elapsed 0m 3s (remain 8m 21s) Loss: 0.6438 Grad: 0.4015 LR: 0.000004  \n",
      "Epoch: [7][100/139] Elapsed 1m 14s (remain 0m 28s) Loss: 0.6406 Grad: 0.6921 LR: 0.000003  \n",
      "Epoch: [7][138/139] Elapsed 1m 41s (remain 0m 0s) Loss: 0.6410 Grad: 0.4894 LR: 0.000003  \n",
      "EVAL: [0/16] Elapsed 0m 2s (remain 0m 39s) Loss: 0.6418 \n",
      "EVAL: [15/16] Elapsed 0m 9s (remain 0m 0s) Loss: 0.6443 \n"
     ]
    },
    {
     "name": "stderr",
     "output_type": "stream",
     "text": [
      "Epoch 7 - avg_train_loss: 0.6410  avg_val_loss: 0.6443  time: 111s\n",
      "Epoch 7 - Score: 18.242142334690747\n"
     ]
    },
    {
     "name": "stdout",
     "output_type": "stream",
     "text": [
      "EarlyStopping counter: 3 out of 10\n",
      "Epoch: [8][0/139] Elapsed 0m 3s (remain 7m 31s) Loss: 0.6302 Grad: 0.5945 LR: 0.000003  \n",
      "Epoch: [8][100/139] Elapsed 1m 14s (remain 0m 27s) Loss: 0.6404 Grad: 0.6860 LR: 0.000002  \n",
      "Epoch: [8][138/139] Elapsed 1m 40s (remain 0m 0s) Loss: 0.6407 Grad: 0.4315 LR: 0.000002  \n",
      "EVAL: [0/16] Elapsed 0m 2s (remain 0m 40s) Loss: 0.6408 \n",
      "EVAL: [15/16] Elapsed 0m 9s (remain 0m 0s) Loss: 0.6441 \n"
     ]
    },
    {
     "name": "stderr",
     "output_type": "stream",
     "text": [
      "Epoch 8 - avg_train_loss: 0.6407  avg_val_loss: 0.6441  time: 111s\n",
      "Epoch 8 - Score: 18.22550764986953\n"
     ]
    },
    {
     "name": "stdout",
     "output_type": "stream",
     "text": [
      "EarlyStopping counter: 4 out of 10\n",
      "Epoch: [9][0/139] Elapsed 0m 3s (remain 7m 1s) Loss: 0.6311 Grad: 0.4102 LR: 0.000002  \n",
      "Epoch: [9][100/139] Elapsed 1m 13s (remain 0m 27s) Loss: 0.6275 Grad: 0.6312 LR: 0.000001  \n",
      "Epoch: [9][138/139] Elapsed 1m 39s (remain 0m 0s) Loss: 0.6268 Grad: 0.3885 LR: 0.000001  \n",
      "EVAL: [0/16] Elapsed 0m 2s (remain 0m 38s) Loss: 0.6419 \n",
      "EVAL: [15/16] Elapsed 0m 9s (remain 0m 0s) Loss: 0.6440 \n"
     ]
    },
    {
     "name": "stderr",
     "output_type": "stream",
     "text": [
      "Epoch 9 - avg_train_loss: 0.6268  avg_val_loss: 0.6440  time: 110s\n",
      "Epoch 9 - Score: 18.2004773618786\n"
     ]
    },
    {
     "name": "stdout",
     "output_type": "stream",
     "text": [
      "EarlyStopping counter: 5 out of 10\n",
      "Epoch: [10][0/139] Elapsed 0m 3s (remain 6m 56s) Loss: 0.6237 Grad: 0.4798 LR: 0.000001  \n",
      "Epoch: [10][100/139] Elapsed 1m 13s (remain 0m 27s) Loss: 0.6249 Grad: 0.5839 LR: 0.000001  \n",
      "Epoch: [10][138/139] Elapsed 1m 39s (remain 0m 0s) Loss: 0.6251 Grad: 0.3160 LR: 0.000010  \n",
      "EVAL: [0/16] Elapsed 0m 2s (remain 0m 38s) Loss: 0.6435 \n",
      "EVAL: [15/16] Elapsed 0m 9s (remain 0m 0s) Loss: 0.6440 \n"
     ]
    },
    {
     "name": "stderr",
     "output_type": "stream",
     "text": [
      "Epoch 10 - avg_train_loss: 0.6251  avg_val_loss: 0.6440  time: 110s\n",
      "Epoch 10 - Score: 18.20277425410125\n",
      "========== fold: 4 result ==========\n",
      "Score: 18.10233\n",
      "========== fold: 5 training ==========\n"
     ]
    },
    {
     "name": "stdout",
     "output_type": "stream",
     "text": [
      "EarlyStopping counter: 6 out of 10\n",
      "Epoch: [1][0/139] Elapsed 0m 3s (remain 7m 3s) Loss: 0.6940 Grad: 0.6761 LR: 0.000010  \n",
      "Epoch: [1][100/139] Elapsed 1m 12s (remain 0m 27s) Loss: 0.6553 Grad: 0.4403 LR: 0.000010  \n",
      "Epoch: [1][138/139] Elapsed 1m 39s (remain 0m 0s) Loss: 0.6531 Grad: 0.5508 LR: 0.000010  \n",
      "EVAL: [0/16] Elapsed 0m 2s (remain 0m 38s) Loss: 0.6529 \n",
      "EVAL: [15/16] Elapsed 0m 9s (remain 0m 0s) Loss: 0.6434 \n"
     ]
    },
    {
     "name": "stderr",
     "output_type": "stream",
     "text": [
      "Epoch 1 - avg_train_loss: 0.6531  avg_val_loss: 0.6434  time: 109s\n",
      "Epoch 1 - Score: 17.853288759488358\n"
     ]
    },
    {
     "name": "stdout",
     "output_type": "stream",
     "text": [
      "Validation loss decreased (inf --> 0.643364).  Saving model ...\n",
      "Epoch: [2][0/139] Elapsed 0m 2s (remain 6m 45s) Loss: 0.6352 Grad: 0.5538 LR: 0.000010  \n",
      "Epoch: [2][100/139] Elapsed 1m 13s (remain 0m 27s) Loss: 0.6398 Grad: 0.3467 LR: 0.000009  \n",
      "Epoch: [2][138/139] Elapsed 1m 40s (remain 0m 0s) Loss: 0.6392 Grad: 0.4255 LR: 0.000009  \n",
      "EVAL: [0/16] Elapsed 0m 2s (remain 0m 39s) Loss: 0.6522 \n",
      "EVAL: [15/16] Elapsed 0m 9s (remain 0m 0s) Loss: 0.6403 \n"
     ]
    },
    {
     "name": "stderr",
     "output_type": "stream",
     "text": [
      "Epoch 2 - avg_train_loss: 0.6392  avg_val_loss: 0.6403  time: 110s\n",
      "Epoch 2 - Score: 17.425172367355174\n"
     ]
    },
    {
     "name": "stdout",
     "output_type": "stream",
     "text": [
      "Validation loss decreased (0.643364 --> 0.640281).  Saving model ...\n",
      "Epoch: [3][0/139] Elapsed 0m 3s (remain 7m 19s) Loss: 0.6575 Grad: 0.5384 LR: 0.000009  \n",
      "Epoch: [3][100/139] Elapsed 1m 13s (remain 0m 27s) Loss: 0.6499 Grad: 0.5203 LR: 0.000008  \n",
      "Epoch: [3][138/139] Elapsed 1m 40s (remain 0m 0s) Loss: 0.6487 Grad: 0.6730 LR: 0.000008  \n",
      "EVAL: [0/16] Elapsed 0m 2s (remain 0m 41s) Loss: 0.6535 \n",
      "EVAL: [15/16] Elapsed 0m 9s (remain 0m 0s) Loss: 0.6394 \n"
     ]
    },
    {
     "name": "stderr",
     "output_type": "stream",
     "text": [
      "Epoch 3 - avg_train_loss: 0.6487  avg_val_loss: 0.6394  time: 110s\n",
      "Epoch 3 - Score: 17.315951561589184\n"
     ]
    },
    {
     "name": "stdout",
     "output_type": "stream",
     "text": [
      "Validation loss decreased (0.640281 --> 0.639392).  Saving model ...\n",
      "Epoch: [4][0/139] Elapsed 0m 3s (remain 7m 33s) Loss: 0.6489 Grad: 0.7087 LR: 0.000008  \n",
      "Epoch: [4][100/139] Elapsed 1m 14s (remain 0m 27s) Loss: 0.6466 Grad: 0.7918 LR: 0.000007  \n",
      "Epoch: [4][138/139] Elapsed 1m 40s (remain 0m 0s) Loss: 0.6470 Grad: 0.3906 LR: 0.000007  \n",
      "EVAL: [0/16] Elapsed 0m 2s (remain 0m 38s) Loss: 0.6536 \n",
      "EVAL: [15/16] Elapsed 0m 9s (remain 0m 0s) Loss: 0.6395 \n"
     ]
    },
    {
     "name": "stderr",
     "output_type": "stream",
     "text": [
      "Epoch 4 - avg_train_loss: 0.6470  avg_val_loss: 0.6395  time: 111s\n",
      "Epoch 4 - Score: 17.32848138661362\n"
     ]
    },
    {
     "name": "stdout",
     "output_type": "stream",
     "text": [
      "EarlyStopping counter: 1 out of 10\n",
      "Epoch: [5][0/139] Elapsed 0m 3s (remain 7m 27s) Loss: 0.6340 Grad: 0.4297 LR: 0.000007  \n",
      "Epoch: [5][100/139] Elapsed 1m 14s (remain 0m 28s) Loss: 0.6461 Grad: 0.8162 LR: 0.000006  \n",
      "Epoch: [5][138/139] Elapsed 1m 41s (remain 0m 0s) Loss: 0.6462 Grad: 0.5817 LR: 0.000005  \n",
      "EVAL: [0/16] Elapsed 0m 2s (remain 0m 37s) Loss: 0.6531 \n",
      "EVAL: [15/16] Elapsed 0m 9s (remain 0m 0s) Loss: 0.6386 \n"
     ]
    },
    {
     "name": "stderr",
     "output_type": "stream",
     "text": [
      "Epoch 5 - avg_train_loss: 0.6462  avg_val_loss: 0.6386  time: 111s\n",
      "Epoch 5 - Score: 17.202680556650115\n"
     ]
    },
    {
     "name": "stdout",
     "output_type": "stream",
     "text": [
      "Validation loss decreased (0.639392 --> 0.638570).  Saving model ...\n",
      "Epoch: [6][0/139] Elapsed 0m 3s (remain 7m 21s) Loss: 0.6499 Grad: 0.5721 LR: 0.000005  \n",
      "Epoch: [6][100/139] Elapsed 1m 14s (remain 0m 27s) Loss: 0.6446 Grad: 0.3497 LR: 0.000004  \n",
      "Epoch: [6][138/139] Elapsed 1m 41s (remain 0m 0s) Loss: 0.6435 Grad: 0.4241 LR: 0.000004  \n",
      "EVAL: [0/16] Elapsed 0m 2s (remain 0m 40s) Loss: 0.6534 \n",
      "EVAL: [15/16] Elapsed 0m 9s (remain 0m 0s) Loss: 0.6388 \n"
     ]
    },
    {
     "name": "stderr",
     "output_type": "stream",
     "text": [
      "Epoch 6 - avg_train_loss: 0.6435  avg_val_loss: 0.6388  time: 111s\n",
      "Epoch 6 - Score: 17.22229073623371\n"
     ]
    },
    {
     "name": "stdout",
     "output_type": "stream",
     "text": [
      "EarlyStopping counter: 1 out of 10\n",
      "Epoch: [7][0/139] Elapsed 0m 3s (remain 7m 24s) Loss: 0.6377 Grad: 0.3426 LR: 0.000004  \n",
      "Epoch: [7][100/139] Elapsed 1m 14s (remain 0m 27s) Loss: 0.6398 Grad: 0.3970 LR: 0.000003  \n",
      "Epoch: [7][138/139] Elapsed 1m 40s (remain 0m 0s) Loss: 0.6409 Grad: 0.3816 LR: 0.000003  \n",
      "EVAL: [0/16] Elapsed 0m 2s (remain 0m 38s) Loss: 0.6536 \n",
      "EVAL: [15/16] Elapsed 0m 9s (remain 0m 0s) Loss: 0.6388 \n"
     ]
    },
    {
     "name": "stderr",
     "output_type": "stream",
     "text": [
      "Epoch 7 - avg_train_loss: 0.6409  avg_val_loss: 0.6388  time: 111s\n",
      "Epoch 7 - Score: 17.232463232130602\n"
     ]
    },
    {
     "name": "stdout",
     "output_type": "stream",
     "text": [
      "EarlyStopping counter: 2 out of 10\n",
      "Epoch: [8][0/139] Elapsed 0m 3s (remain 7m 19s) Loss: 0.6220 Grad: 0.5683 LR: 0.000003  \n",
      "Epoch: [8][100/139] Elapsed 1m 14s (remain 0m 27s) Loss: 0.6418 Grad: 0.4396 LR: 0.000002  \n",
      "Epoch: [8][138/139] Elapsed 1m 40s (remain 0m 0s) Loss: 0.6413 Grad: 0.4422 LR: 0.000002  \n",
      "EVAL: [0/16] Elapsed 0m 2s (remain 0m 42s) Loss: 0.6538 \n",
      "EVAL: [15/16] Elapsed 0m 9s (remain 0m 0s) Loss: 0.6383 \n"
     ]
    },
    {
     "name": "stderr",
     "output_type": "stream",
     "text": [
      "Epoch 8 - avg_train_loss: 0.6413  avg_val_loss: 0.6383  time: 111s\n",
      "Epoch 8 - Score: 17.163029857055086\n"
     ]
    },
    {
     "name": "stdout",
     "output_type": "stream",
     "text": [
      "Validation loss decreased (0.638570 --> 0.638334).  Saving model ...\n",
      "Epoch: [9][0/139] Elapsed 0m 2s (remain 6m 42s) Loss: 0.6334 Grad: 0.7666 LR: 0.000002  \n",
      "Epoch: [9][100/139] Elapsed 1m 13s (remain 0m 27s) Loss: 0.6285 Grad: 0.4945 LR: 0.000001  \n",
      "Epoch: [9][138/139] Elapsed 1m 40s (remain 0m 0s) Loss: 0.6275 Grad: 0.3205 LR: 0.000001  \n",
      "EVAL: [0/16] Elapsed 0m 2s (remain 0m 38s) Loss: 0.6541 \n",
      "EVAL: [15/16] Elapsed 0m 9s (remain 0m 0s) Loss: 0.6384 \n"
     ]
    },
    {
     "name": "stderr",
     "output_type": "stream",
     "text": [
      "Epoch 9 - avg_train_loss: 0.6275  avg_val_loss: 0.6384  time: 110s\n",
      "Epoch 9 - Score: 17.16405395450916\n"
     ]
    },
    {
     "name": "stdout",
     "output_type": "stream",
     "text": [
      "EarlyStopping counter: 1 out of 10\n",
      "Epoch: [10][0/139] Elapsed 0m 3s (remain 7m 14s) Loss: 0.6280 Grad: 0.4487 LR: 0.000001  \n",
      "Epoch: [10][100/139] Elapsed 1m 13s (remain 0m 27s) Loss: 0.6269 Grad: 0.5227 LR: 0.000001  \n",
      "Epoch: [10][138/139] Elapsed 1m 39s (remain 0m 0s) Loss: 0.6263 Grad: 0.3679 LR: 0.000010  \n",
      "EVAL: [0/16] Elapsed 0m 2s (remain 0m 41s) Loss: 0.6544 \n",
      "EVAL: [15/16] Elapsed 0m 9s (remain 0m 0s) Loss: 0.6385 \n"
     ]
    },
    {
     "name": "stderr",
     "output_type": "stream",
     "text": [
      "Epoch 10 - avg_train_loss: 0.6263  avg_val_loss: 0.6385  time: 110s\n",
      "Epoch 10 - Score: 17.192087470300564\n",
      "========== fold: 5 result ==========\n",
      "Score: 17.16303\n",
      "========== fold: 6 training ==========\n"
     ]
    },
    {
     "name": "stdout",
     "output_type": "stream",
     "text": [
      "EarlyStopping counter: 2 out of 10\n",
      "Epoch: [1][0/139] Elapsed 0m 3s (remain 7m 5s) Loss: 0.6897 Grad: 0.3591 LR: 0.000010  \n",
      "Epoch: [1][100/139] Elapsed 1m 12s (remain 0m 27s) Loss: 0.6551 Grad: 0.2173 LR: 0.000010  \n",
      "Epoch: [1][138/139] Elapsed 1m 39s (remain 0m 0s) Loss: 0.6531 Grad: 0.3588 LR: 0.000010  \n",
      "EVAL: [0/16] Elapsed 0m 2s (remain 0m 38s) Loss: 0.6620 \n",
      "EVAL: [15/16] Elapsed 0m 9s (remain 0m 0s) Loss: 0.6447 \n"
     ]
    },
    {
     "name": "stderr",
     "output_type": "stream",
     "text": [
      "Epoch 1 - avg_train_loss: 0.6531  avg_val_loss: 0.6447  time: 109s\n",
      "Epoch 1 - Score: 18.04629607238654\n"
     ]
    },
    {
     "name": "stdout",
     "output_type": "stream",
     "text": [
      "Validation loss decreased (inf --> 0.644727).  Saving model ...\n",
      "Epoch: [2][0/139] Elapsed 0m 2s (remain 6m 45s) Loss: 0.6430 Grad: 0.2876 LR: 0.000010  \n",
      "Epoch: [2][100/139] Elapsed 1m 13s (remain 0m 27s) Loss: 0.6397 Grad: 0.5677 LR: 0.000009  \n",
      "Epoch: [2][138/139] Elapsed 1m 39s (remain 0m 0s) Loss: 0.6393 Grad: 0.4927 LR: 0.000009  \n",
      "EVAL: [0/16] Elapsed 0m 2s (remain 0m 39s) Loss: 0.6614 \n",
      "EVAL: [15/16] Elapsed 0m 9s (remain 0m 0s) Loss: 0.6414 \n"
     ]
    },
    {
     "name": "stderr",
     "output_type": "stream",
     "text": [
      "Epoch 2 - avg_train_loss: 0.6393  avg_val_loss: 0.6414  time: 110s\n",
      "Epoch 2 - Score: 17.58999273530199\n"
     ]
    },
    {
     "name": "stdout",
     "output_type": "stream",
     "text": [
      "Validation loss decreased (0.644727 --> 0.641433).  Saving model ...\n",
      "Epoch: [3][0/139] Elapsed 0m 3s (remain 7m 20s) Loss: 0.6502 Grad: 0.6868 LR: 0.000009  \n",
      "Epoch: [3][100/139] Elapsed 1m 13s (remain 0m 27s) Loss: 0.6483 Grad: 1.5048 LR: 0.000008  \n",
      "Epoch: [3][138/139] Elapsed 1m 40s (remain 0m 0s) Loss: 0.6484 Grad: 0.8207 LR: 0.000008  \n",
      "EVAL: [0/16] Elapsed 0m 2s (remain 0m 36s) Loss: 0.6595 \n",
      "EVAL: [15/16] Elapsed 0m 9s (remain 0m 0s) Loss: 0.6408 \n"
     ]
    },
    {
     "name": "stderr",
     "output_type": "stream",
     "text": [
      "Epoch 3 - avg_train_loss: 0.6484  avg_val_loss: 0.6408  time: 110s\n",
      "Epoch 3 - Score: 17.504763180473986\n"
     ]
    },
    {
     "name": "stdout",
     "output_type": "stream",
     "text": [
      "Validation loss decreased (0.641433 --> 0.640788).  Saving model ...\n",
      "Epoch: [4][0/139] Elapsed 0m 3s (remain 7m 22s) Loss: 0.6346 Grad: 1.1683 LR: 0.000008  \n",
      "Epoch: [4][100/139] Elapsed 1m 13s (remain 0m 27s) Loss: 0.6464 Grad: 0.6048 LR: 0.000007  \n",
      "Epoch: [4][138/139] Elapsed 1m 40s (remain 0m 0s) Loss: 0.6468 Grad: 0.6523 LR: 0.000007  \n",
      "EVAL: [0/16] Elapsed 0m 2s (remain 0m 37s) Loss: 0.6599 \n",
      "EVAL: [15/16] Elapsed 0m 9s (remain 0m 0s) Loss: 0.6409 \n"
     ]
    },
    {
     "name": "stderr",
     "output_type": "stream",
     "text": [
      "Epoch 4 - avg_train_loss: 0.6468  avg_val_loss: 0.6409  time: 111s\n",
      "Epoch 4 - Score: 17.512344931099598\n"
     ]
    },
    {
     "name": "stdout",
     "output_type": "stream",
     "text": [
      "EarlyStopping counter: 1 out of 10\n",
      "Epoch: [5][0/139] Elapsed 0m 3s (remain 7m 28s) Loss: 0.6374 Grad: 0.5727 LR: 0.000007  \n",
      "Epoch: [5][100/139] Elapsed 1m 13s (remain 0m 27s) Loss: 0.6454 Grad: 0.4762 LR: 0.000006  \n",
      "Epoch: [5][138/139] Elapsed 1m 40s (remain 0m 0s) Loss: 0.6457 Grad: 0.6641 LR: 0.000005  \n",
      "EVAL: [0/16] Elapsed 0m 2s (remain 0m 36s) Loss: 0.6601 \n",
      "EVAL: [15/16] Elapsed 0m 9s (remain 0m 0s) Loss: 0.6408 \n"
     ]
    },
    {
     "name": "stderr",
     "output_type": "stream",
     "text": [
      "Epoch 5 - avg_train_loss: 0.6457  avg_val_loss: 0.6408  time: 110s\n",
      "Epoch 5 - Score: 17.510588241486303\n"
     ]
    },
    {
     "name": "stdout",
     "output_type": "stream",
     "text": [
      "EarlyStopping counter: 2 out of 10\n",
      "Epoch: [6][0/139] Elapsed 0m 3s (remain 7m 22s) Loss: 0.6455 Grad: 0.4623 LR: 0.000005  \n",
      "Epoch: [6][100/139] Elapsed 1m 14s (remain 0m 27s) Loss: 0.6427 Grad: 0.5866 LR: 0.000004  \n",
      "Epoch: [6][138/139] Elapsed 1m 40s (remain 0m 0s) Loss: 0.6425 Grad: 0.5178 LR: 0.000004  \n",
      "EVAL: [0/16] Elapsed 0m 2s (remain 0m 41s) Loss: 0.6592 \n",
      "EVAL: [15/16] Elapsed 0m 9s (remain 0m 0s) Loss: 0.6406 \n"
     ]
    },
    {
     "name": "stderr",
     "output_type": "stream",
     "text": [
      "Epoch 6 - avg_train_loss: 0.6425  avg_val_loss: 0.6406  time: 111s\n",
      "Epoch 6 - Score: 17.47011601891321\n"
     ]
    },
    {
     "name": "stdout",
     "output_type": "stream",
     "text": [
      "Validation loss decreased (0.640788 --> 0.640578).  Saving model ...\n",
      "Epoch: [7][0/139] Elapsed 0m 3s (remain 7m 27s) Loss: 0.6511 Grad: 0.6320 LR: 0.000004  \n",
      "Epoch: [7][100/139] Elapsed 1m 14s (remain 0m 27s) Loss: 0.6423 Grad: 0.5083 LR: 0.000003  \n",
      "Epoch: [7][138/139] Elapsed 1m 41s (remain 0m 0s) Loss: 0.6426 Grad: 0.5825 LR: 0.000003  \n",
      "EVAL: [0/16] Elapsed 0m 2s (remain 0m 37s) Loss: 0.6577 \n",
      "EVAL: [15/16] Elapsed 0m 9s (remain 0m 0s) Loss: 0.6405 \n"
     ]
    },
    {
     "name": "stderr",
     "output_type": "stream",
     "text": [
      "Epoch 7 - avg_train_loss: 0.6426  avg_val_loss: 0.6405  time: 111s\n",
      "Epoch 7 - Score: 17.453436622910115\n"
     ]
    },
    {
     "name": "stdout",
     "output_type": "stream",
     "text": [
      "Validation loss decreased (0.640578 --> 0.640491).  Saving model ...\n",
      "Epoch: [8][0/139] Elapsed 0m 3s (remain 7m 5s) Loss: 0.6502 Grad: 0.3860 LR: 0.000003  \n",
      "Epoch: [8][100/139] Elapsed 1m 13s (remain 0m 27s) Loss: 0.6419 Grad: 0.5265 LR: 0.000002  \n",
      "Epoch: [8][138/139] Elapsed 1m 40s (remain 0m 0s) Loss: 0.6418 Grad: 0.5159 LR: 0.000002  \n",
      "EVAL: [0/16] Elapsed 0m 2s (remain 0m 40s) Loss: 0.6592 \n",
      "EVAL: [15/16] Elapsed 0m 9s (remain 0m 0s) Loss: 0.6407 \n"
     ]
    },
    {
     "name": "stderr",
     "output_type": "stream",
     "text": [
      "Epoch 8 - avg_train_loss: 0.6418  avg_val_loss: 0.6407  time: 111s\n",
      "Epoch 8 - Score: 17.480074721426387\n"
     ]
    },
    {
     "name": "stdout",
     "output_type": "stream",
     "text": [
      "EarlyStopping counter: 1 out of 10\n",
      "Epoch: [9][0/139] Elapsed 0m 3s (remain 7m 24s) Loss: 0.5982 Grad: 0.4033 LR: 0.000002  \n",
      "Epoch: [9][100/139] Elapsed 1m 13s (remain 0m 27s) Loss: 0.6293 Grad: 0.3844 LR: 0.000001  \n",
      "Epoch: [9][138/139] Elapsed 1m 39s (remain 0m 0s) Loss: 0.6280 Grad: 0.4901 LR: 0.000001  \n",
      "EVAL: [0/16] Elapsed 0m 2s (remain 0m 37s) Loss: 0.6584 \n",
      "EVAL: [15/16] Elapsed 0m 9s (remain 0m 0s) Loss: 0.6407 \n"
     ]
    },
    {
     "name": "stderr",
     "output_type": "stream",
     "text": [
      "Epoch 9 - avg_train_loss: 0.6280  avg_val_loss: 0.6407  time: 109s\n",
      "Epoch 9 - Score: 17.46626554904949\n"
     ]
    },
    {
     "name": "stdout",
     "output_type": "stream",
     "text": [
      "EarlyStopping counter: 2 out of 10\n",
      "Epoch: [10][0/139] Elapsed 0m 3s (remain 7m 5s) Loss: 0.6388 Grad: 0.5853 LR: 0.000001  \n",
      "Epoch: [10][100/139] Elapsed 1m 13s (remain 0m 27s) Loss: 0.6270 Grad: 0.4331 LR: 0.000001  \n",
      "Epoch: [10][138/139] Elapsed 1m 39s (remain 0m 0s) Loss: 0.6263 Grad: 0.3772 LR: 0.000010  \n",
      "EVAL: [0/16] Elapsed 0m 2s (remain 0m 37s) Loss: 0.6579 \n",
      "EVAL: [15/16] Elapsed 0m 9s (remain 0m 0s) Loss: 0.6401 \n"
     ]
    },
    {
     "name": "stderr",
     "output_type": "stream",
     "text": [
      "Epoch 10 - avg_train_loss: 0.6263  avg_val_loss: 0.6401  time: 110s\n",
      "Epoch 10 - Score: 17.39172801777557\n"
     ]
    },
    {
     "name": "stdout",
     "output_type": "stream",
     "text": [
      "Validation loss decreased (0.640491 --> 0.640130).  Saving model ...\n"
     ]
    },
    {
     "name": "stderr",
     "output_type": "stream",
     "text": [
      "========== fold: 6 result ==========\n",
      "Score: 17.39173\n",
      "========== fold: 7 training ==========\n"
     ]
    },
    {
     "name": "stdout",
     "output_type": "stream",
     "text": [
      "Epoch: [1][0/139] Elapsed 0m 3s (remain 7m 17s) Loss: 0.6952 Grad: 0.5848 LR: 0.000010  \n",
      "Epoch: [1][100/139] Elapsed 1m 12s (remain 0m 27s) Loss: 0.6558 Grad: 0.3409 LR: 0.000010  \n",
      "Epoch: [1][138/139] Elapsed 1m 39s (remain 0m 0s) Loss: 0.6528 Grad: 0.3809 LR: 0.000010  \n",
      "EVAL: [0/16] Elapsed 0m 2s (remain 0m 37s) Loss: 0.6349 \n",
      "EVAL: [15/16] Elapsed 0m 9s (remain 0m 0s) Loss: 0.6481 \n"
     ]
    },
    {
     "name": "stderr",
     "output_type": "stream",
     "text": [
      "Epoch 1 - avg_train_loss: 0.6528  avg_val_loss: 0.6481  time: 110s\n",
      "Epoch 1 - Score: 18.673765369066217\n"
     ]
    },
    {
     "name": "stdout",
     "output_type": "stream",
     "text": [
      "Validation loss decreased (inf --> 0.648094).  Saving model ...\n",
      "Epoch: [2][0/139] Elapsed 0m 2s (remain 6m 49s) Loss: 0.6351 Grad: 0.4516 LR: 0.000010  \n",
      "Epoch: [2][100/139] Elapsed 1m 13s (remain 0m 27s) Loss: 0.6385 Grad: 0.5331 LR: 0.000009  \n",
      "Epoch: [2][138/139] Elapsed 1m 40s (remain 0m 0s) Loss: 0.6385 Grad: 0.3535 LR: 0.000009  \n",
      "EVAL: [0/16] Elapsed 0m 2s (remain 0m 40s) Loss: 0.6283 \n",
      "EVAL: [15/16] Elapsed 0m 9s (remain 0m 0s) Loss: 0.6448 \n"
     ]
    },
    {
     "name": "stderr",
     "output_type": "stream",
     "text": [
      "Epoch 2 - avg_train_loss: 0.6385  avg_val_loss: 0.6448  time: 110s\n",
      "Epoch 2 - Score: 18.266133762117573\n"
     ]
    },
    {
     "name": "stdout",
     "output_type": "stream",
     "text": [
      "Validation loss decreased (0.648094 --> 0.644839).  Saving model ...\n",
      "Epoch: [3][0/139] Elapsed 0m 3s (remain 7m 12s) Loss: 0.6375 Grad: 0.7136 LR: 0.000009  \n",
      "Epoch: [3][100/139] Elapsed 1m 13s (remain 0m 27s) Loss: 0.6497 Grad: 0.3890 LR: 0.000008  \n",
      "Epoch: [3][138/139] Elapsed 1m 40s (remain 0m 0s) Loss: 0.6496 Grad: 0.5493 LR: 0.000008  \n",
      "EVAL: [0/16] Elapsed 0m 2s (remain 0m 42s) Loss: 0.6307 \n",
      "EVAL: [15/16] Elapsed 0m 9s (remain 0m 0s) Loss: 0.6452 \n"
     ]
    },
    {
     "name": "stderr",
     "output_type": "stream",
     "text": [
      "Epoch 3 - avg_train_loss: 0.6496  avg_val_loss: 0.6452  time: 111s\n",
      "Epoch 3 - Score: 18.30597174920585\n"
     ]
    },
    {
     "name": "stdout",
     "output_type": "stream",
     "text": [
      "EarlyStopping counter: 1 out of 10\n",
      "Epoch: [4][0/139] Elapsed 0m 3s (remain 7m 36s) Loss: 0.6498 Grad: 0.4864 LR: 0.000008  \n",
      "Epoch: [4][100/139] Elapsed 1m 14s (remain 0m 27s) Loss: 0.6484 Grad: 0.5192 LR: 0.000007  \n",
      "Epoch: [4][138/139] Elapsed 1m 40s (remain 0m 0s) Loss: 0.6476 Grad: 0.5397 LR: 0.000007  \n",
      "EVAL: [0/16] Elapsed 0m 2s (remain 0m 38s) Loss: 0.6287 \n",
      "EVAL: [15/16] Elapsed 0m 9s (remain 0m 0s) Loss: 0.6451 \n"
     ]
    },
    {
     "name": "stderr",
     "output_type": "stream",
     "text": [
      "Epoch 4 - avg_train_loss: 0.6476  avg_val_loss: 0.6451  time: 111s\n",
      "Epoch 4 - Score: 18.281896871196306\n"
     ]
    },
    {
     "name": "stdout",
     "output_type": "stream",
     "text": [
      "EarlyStopping counter: 2 out of 10\n",
      "Epoch: [5][0/139] Elapsed 0m 3s (remain 7m 58s) Loss: 0.6450 Grad: 0.7233 LR: 0.000007  \n",
      "Epoch: [5][100/139] Elapsed 1m 14s (remain 0m 28s) Loss: 0.6435 Grad: 0.5833 LR: 0.000006  \n",
      "Epoch: [5][138/139] Elapsed 1m 41s (remain 0m 0s) Loss: 0.6446 Grad: 0.5828 LR: 0.000005  \n",
      "EVAL: [0/16] Elapsed 0m 2s (remain 0m 37s) Loss: 0.6304 \n",
      "EVAL: [15/16] Elapsed 0m 9s (remain 0m 0s) Loss: 0.6450 \n"
     ]
    },
    {
     "name": "stderr",
     "output_type": "stream",
     "text": [
      "Epoch 5 - avg_train_loss: 0.6446  avg_val_loss: 0.6450  time: 111s\n",
      "Epoch 5 - Score: 18.276952259339296\n"
     ]
    },
    {
     "name": "stdout",
     "output_type": "stream",
     "text": [
      "EarlyStopping counter: 3 out of 10\n",
      "Epoch: [6][0/139] Elapsed 0m 3s (remain 7m 22s) Loss: 0.6399 Grad: 0.5966 LR: 0.000005  \n",
      "Epoch: [6][100/139] Elapsed 1m 13s (remain 0m 27s) Loss: 0.6431 Grad: 0.5024 LR: 0.000004  \n",
      "Epoch: [6][138/139] Elapsed 1m 40s (remain 0m 0s) Loss: 0.6426 Grad: 0.8824 LR: 0.000004  \n",
      "EVAL: [0/16] Elapsed 0m 2s (remain 0m 40s) Loss: 0.6306 \n",
      "EVAL: [15/16] Elapsed 0m 9s (remain 0m 0s) Loss: 0.6456 \n"
     ]
    },
    {
     "name": "stderr",
     "output_type": "stream",
     "text": [
      "Epoch 6 - avg_train_loss: 0.6426  avg_val_loss: 0.6456  time: 110s\n",
      "Epoch 6 - Score: 18.36120053535414\n"
     ]
    },
    {
     "name": "stdout",
     "output_type": "stream",
     "text": [
      "EarlyStopping counter: 4 out of 10\n",
      "Epoch: [7][0/139] Elapsed 0m 3s (remain 7m 42s) Loss: 0.6409 Grad: 0.5871 LR: 0.000004  \n",
      "Epoch: [7][100/139] Elapsed 1m 13s (remain 0m 27s) Loss: 0.6435 Grad: 0.5050 LR: 0.000003  \n",
      "Epoch: [7][138/139] Elapsed 1m 40s (remain 0m 0s) Loss: 0.6420 Grad: 1.2385 LR: 0.000003  \n",
      "EVAL: [0/16] Elapsed 0m 2s (remain 0m 42s) Loss: 0.6299 \n",
      "EVAL: [15/16] Elapsed 0m 9s (remain 0m 0s) Loss: 0.6453 \n"
     ]
    },
    {
     "name": "stderr",
     "output_type": "stream",
     "text": [
      "Epoch 7 - avg_train_loss: 0.6420  avg_val_loss: 0.6453  time: 110s\n",
      "Epoch 7 - Score: 18.314074261545606\n"
     ]
    },
    {
     "name": "stdout",
     "output_type": "stream",
     "text": [
      "EarlyStopping counter: 5 out of 10\n",
      "Epoch: [8][0/139] Elapsed 0m 3s (remain 7m 46s) Loss: 0.6919 Grad: 1.0248 LR: 0.000003  \n",
      "Epoch: [8][100/139] Elapsed 1m 14s (remain 0m 27s) Loss: 0.6408 Grad: 0.7668 LR: 0.000002  \n",
      "Epoch: [8][138/139] Elapsed 1m 41s (remain 0m 0s) Loss: 0.6399 Grad: 0.4347 LR: 0.000002  \n",
      "EVAL: [0/16] Elapsed 0m 2s (remain 0m 43s) Loss: 0.6305 \n",
      "EVAL: [15/16] Elapsed 0m 9s (remain 0m 0s) Loss: 0.6449 \n"
     ]
    },
    {
     "name": "stderr",
     "output_type": "stream",
     "text": [
      "Epoch 8 - avg_train_loss: 0.6399  avg_val_loss: 0.6449  time: 111s\n",
      "Epoch 8 - Score: 18.26722266085918\n"
     ]
    },
    {
     "name": "stdout",
     "output_type": "stream",
     "text": [
      "EarlyStopping counter: 6 out of 10\n",
      "Epoch: [9][0/139] Elapsed 0m 3s (remain 7m 23s) Loss: 0.6203 Grad: 0.4139 LR: 0.000002  \n",
      "Epoch: [9][100/139] Elapsed 1m 13s (remain 0m 27s) Loss: 0.6276 Grad: 0.5315 LR: 0.000001  \n",
      "Epoch: [9][138/139] Elapsed 1m 40s (remain 0m 0s) Loss: 0.6270 Grad: 0.6208 LR: 0.000001  \n",
      "EVAL: [0/16] Elapsed 0m 2s (remain 0m 40s) Loss: 0.6309 \n",
      "EVAL: [15/16] Elapsed 0m 9s (remain 0m 0s) Loss: 0.6444 \n"
     ]
    },
    {
     "name": "stderr",
     "output_type": "stream",
     "text": [
      "Epoch 9 - avg_train_loss: 0.6270  avg_val_loss: 0.6444  time: 110s\n",
      "Epoch 9 - Score: 18.198110591798212\n"
     ]
    },
    {
     "name": "stdout",
     "output_type": "stream",
     "text": [
      "Validation loss decreased (0.644839 --> 0.644415).  Saving model ...\n",
      "Epoch: [10][0/139] Elapsed 0m 3s (remain 7m 22s) Loss: 0.6035 Grad: 0.5284 LR: 0.000001  \n",
      "Epoch: [10][100/139] Elapsed 1m 13s (remain 0m 27s) Loss: 0.6252 Grad: 0.4287 LR: 0.000001  \n",
      "Epoch: [10][138/139] Elapsed 1m 39s (remain 0m 0s) Loss: 0.6257 Grad: 0.3607 LR: 0.000010  \n",
      "EVAL: [0/16] Elapsed 0m 2s (remain 0m 39s) Loss: 0.6312 \n",
      "EVAL: [15/16] Elapsed 0m 9s (remain 0m 0s) Loss: 0.6450 \n"
     ]
    },
    {
     "name": "stderr",
     "output_type": "stream",
     "text": [
      "Epoch 10 - avg_train_loss: 0.6257  avg_val_loss: 0.6450  time: 110s\n",
      "Epoch 10 - Score: 18.262032404529574\n",
      "========== fold: 7 result ==========\n",
      "Score: 18.19811\n",
      "========== fold: 8 training ==========\n"
     ]
    },
    {
     "name": "stdout",
     "output_type": "stream",
     "text": [
      "EarlyStopping counter: 1 out of 10\n",
      "Epoch: [1][0/139] Elapsed 0m 3s (remain 7m 27s) Loss: 0.6972 Grad: 0.5183 LR: 0.000010  \n",
      "Epoch: [1][100/139] Elapsed 1m 13s (remain 0m 27s) Loss: 0.6555 Grad: 0.2362 LR: 0.000010  \n",
      "Epoch: [1][138/139] Elapsed 1m 39s (remain 0m 0s) Loss: 0.6525 Grad: 0.5428 LR: 0.000010  \n",
      "EVAL: [0/16] Elapsed 0m 2s (remain 0m 37s) Loss: 0.6380 \n",
      "EVAL: [15/16] Elapsed 0m 9s (remain 0m 0s) Loss: 0.6429 \n"
     ]
    },
    {
     "name": "stderr",
     "output_type": "stream",
     "text": [
      "Epoch 1 - avg_train_loss: 0.6525  avg_val_loss: 0.6429  time: 110s\n",
      "Epoch 1 - Score: 17.969119476414605\n"
     ]
    },
    {
     "name": "stdout",
     "output_type": "stream",
     "text": [
      "Validation loss decreased (inf --> 0.642919).  Saving model ...\n",
      "Epoch: [2][0/139] Elapsed 0m 3s (remain 7m 56s) Loss: 0.6294 Grad: 0.3932 LR: 0.000010  \n",
      "Epoch: [2][100/139] Elapsed 1m 13s (remain 0m 27s) Loss: 0.6386 Grad: 0.4088 LR: 0.000009  \n",
      "Epoch: [2][138/139] Elapsed 1m 40s (remain 0m 0s) Loss: 0.6396 Grad: 0.4657 LR: 0.000009  \n",
      "EVAL: [0/16] Elapsed 0m 2s (remain 0m 44s) Loss: 0.6371 \n",
      "EVAL: [15/16] Elapsed 0m 9s (remain 0m 0s) Loss: 0.6404 \n"
     ]
    },
    {
     "name": "stderr",
     "output_type": "stream",
     "text": [
      "Epoch 2 - avg_train_loss: 0.6396  avg_val_loss: 0.6404  time: 111s\n",
      "Epoch 2 - Score: 17.634800074246115\n"
     ]
    },
    {
     "name": "stdout",
     "output_type": "stream",
     "text": [
      "Validation loss decreased (0.642919 --> 0.640425).  Saving model ...\n",
      "Epoch: [3][0/139] Elapsed 0m 3s (remain 7m 41s) Loss: 0.6478 Grad: 0.4765 LR: 0.000009  \n",
      "Epoch: [3][100/139] Elapsed 1m 14s (remain 0m 28s) Loss: 0.6501 Grad: 0.4816 LR: 0.000008  \n",
      "Epoch: [3][138/139] Elapsed 1m 41s (remain 0m 0s) Loss: 0.6495 Grad: 0.3722 LR: 0.000008  \n",
      "EVAL: [0/16] Elapsed 0m 2s (remain 0m 40s) Loss: 0.6359 \n",
      "EVAL: [15/16] Elapsed 0m 9s (remain 0m 0s) Loss: 0.6395 \n"
     ]
    },
    {
     "name": "stderr",
     "output_type": "stream",
     "text": [
      "Epoch 3 - avg_train_loss: 0.6495  avg_val_loss: 0.6395  time: 111s\n",
      "Epoch 3 - Score: 17.511655974633175\n"
     ]
    },
    {
     "name": "stdout",
     "output_type": "stream",
     "text": [
      "Validation loss decreased (0.640425 --> 0.639465).  Saving model ...\n",
      "Epoch: [4][0/139] Elapsed 0m 3s (remain 7m 21s) Loss: 0.6451 Grad: 0.5348 LR: 0.000008  \n",
      "Epoch: [4][100/139] Elapsed 1m 14s (remain 0m 27s) Loss: 0.6473 Grad: 0.8353 LR: 0.000007  \n",
      "Epoch: [4][138/139] Elapsed 1m 41s (remain 0m 0s) Loss: 0.6484 Grad: 0.6147 LR: 0.000007  \n",
      "EVAL: [0/16] Elapsed 0m 2s (remain 0m 41s) Loss: 0.6369 \n",
      "EVAL: [15/16] Elapsed 0m 9s (remain 0m 0s) Loss: 0.6387 \n"
     ]
    },
    {
     "name": "stderr",
     "output_type": "stream",
     "text": [
      "Epoch 4 - avg_train_loss: 0.6484  avg_val_loss: 0.6387  time: 111s\n",
      "Epoch 4 - Score: 17.40507024473631\n"
     ]
    },
    {
     "name": "stdout",
     "output_type": "stream",
     "text": [
      "Validation loss decreased (0.639465 --> 0.638680).  Saving model ...\n",
      "Epoch: [5][0/139] Elapsed 0m 3s (remain 8m 9s) Loss: 0.6527 Grad: 0.4976 LR: 0.000007  \n",
      "Epoch: [5][100/139] Elapsed 1m 14s (remain 0m 27s) Loss: 0.6457 Grad: 0.4608 LR: 0.000006  \n",
      "Epoch: [5][138/139] Elapsed 1m 41s (remain 0m 0s) Loss: 0.6459 Grad: 0.4530 LR: 0.000005  \n",
      "EVAL: [0/16] Elapsed 0m 2s (remain 0m 42s) Loss: 0.6357 \n",
      "EVAL: [15/16] Elapsed 0m 9s (remain 0m 0s) Loss: 0.6392 \n"
     ]
    },
    {
     "name": "stderr",
     "output_type": "stream",
     "text": [
      "Epoch 5 - avg_train_loss: 0.6459  avg_val_loss: 0.6392  time: 112s\n",
      "Epoch 5 - Score: 17.483789663334953\n"
     ]
    },
    {
     "name": "stdout",
     "output_type": "stream",
     "text": [
      "EarlyStopping counter: 1 out of 10\n",
      "Epoch: [6][0/139] Elapsed 0m 3s (remain 7m 50s) Loss: 0.6406 Grad: 0.5254 LR: 0.000005  \n",
      "Epoch: [6][100/139] Elapsed 1m 14s (remain 0m 27s) Loss: 0.6427 Grad: 0.7883 LR: 0.000004  \n",
      "Epoch: [6][138/139] Elapsed 1m 41s (remain 0m 0s) Loss: 0.6422 Grad: 0.5085 LR: 0.000004  \n",
      "EVAL: [0/16] Elapsed 0m 2s (remain 0m 42s) Loss: 0.6382 \n",
      "EVAL: [15/16] Elapsed 0m 9s (remain 0m 0s) Loss: 0.6398 \n"
     ]
    },
    {
     "name": "stderr",
     "output_type": "stream",
     "text": [
      "Epoch 6 - avg_train_loss: 0.6422  avg_val_loss: 0.6398  time: 111s\n",
      "Epoch 6 - Score: 17.53962037433997\n"
     ]
    },
    {
     "name": "stdout",
     "output_type": "stream",
     "text": [
      "EarlyStopping counter: 2 out of 10\n",
      "Epoch: [7][0/139] Elapsed 0m 3s (remain 7m 29s) Loss: 0.6670 Grad: 0.6959 LR: 0.000004  \n",
      "Epoch: [7][100/139] Elapsed 1m 14s (remain 0m 27s) Loss: 0.6419 Grad: 1.0637 LR: 0.000003  \n",
      "Epoch: [7][138/139] Elapsed 1m 40s (remain 0m 0s) Loss: 0.6423 Grad: 0.5222 LR: 0.000003  \n",
      "EVAL: [0/16] Elapsed 0m 2s (remain 0m 40s) Loss: 0.6413 \n",
      "EVAL: [15/16] Elapsed 0m 9s (remain 0m 0s) Loss: 0.6402 \n"
     ]
    },
    {
     "name": "stderr",
     "output_type": "stream",
     "text": [
      "Epoch 7 - avg_train_loss: 0.6423  avg_val_loss: 0.6402  time: 111s\n",
      "Epoch 7 - Score: 17.587476169563576\n"
     ]
    },
    {
     "name": "stdout",
     "output_type": "stream",
     "text": [
      "EarlyStopping counter: 3 out of 10\n",
      "Epoch: [8][0/139] Elapsed 0m 3s (remain 7m 53s) Loss: 0.6252 Grad: 0.4702 LR: 0.000003  \n",
      "Epoch: [8][100/139] Elapsed 1m 14s (remain 0m 27s) Loss: 0.6418 Grad: 0.5302 LR: 0.000002  \n",
      "Epoch: [8][138/139] Elapsed 1m 41s (remain 0m 0s) Loss: 0.6418 Grad: 0.5435 LR: 0.000002  \n",
      "EVAL: [0/16] Elapsed 0m 2s (remain 0m 44s) Loss: 0.6352 \n",
      "EVAL: [15/16] Elapsed 0m 9s (remain 0m 0s) Loss: 0.6387 \n"
     ]
    },
    {
     "name": "stderr",
     "output_type": "stream",
     "text": [
      "Epoch 8 - avg_train_loss: 0.6418  avg_val_loss: 0.6387  time: 112s\n",
      "Epoch 8 - Score: 17.394892603691137\n"
     ]
    },
    {
     "name": "stdout",
     "output_type": "stream",
     "text": [
      "Validation loss decreased (0.638680 --> 0.638660).  Saving model ...\n",
      "Epoch: [9][0/139] Elapsed 0m 3s (remain 7m 18s) Loss: 0.6271 Grad: 0.4442 LR: 0.000002  \n",
      "Epoch: [9][100/139] Elapsed 1m 13s (remain 0m 27s) Loss: 0.6275 Grad: 0.5208 LR: 0.000001  \n",
      "Epoch: [9][138/139] Elapsed 1m 39s (remain 0m 0s) Loss: 0.6277 Grad: 0.2958 LR: 0.000001  \n",
      "EVAL: [0/16] Elapsed 0m 2s (remain 0m 44s) Loss: 0.6339 \n",
      "EVAL: [15/16] Elapsed 0m 9s (remain 0m 0s) Loss: 0.6384 \n"
     ]
    },
    {
     "name": "stderr",
     "output_type": "stream",
     "text": [
      "Epoch 9 - avg_train_loss: 0.6277  avg_val_loss: 0.6384  time: 110s\n",
      "Epoch 9 - Score: 17.353392941852874\n"
     ]
    },
    {
     "name": "stdout",
     "output_type": "stream",
     "text": [
      "Validation loss decreased (0.638660 --> 0.638380).  Saving model ...\n",
      "Epoch: [10][0/139] Elapsed 0m 3s (remain 7m 6s) Loss: 0.6235 Grad: 0.3834 LR: 0.000001  \n",
      "Epoch: [10][100/139] Elapsed 1m 13s (remain 0m 27s) Loss: 0.6258 Grad: 0.4950 LR: 0.000001  \n",
      "Epoch: [10][138/139] Elapsed 1m 40s (remain 0m 0s) Loss: 0.6266 Grad: 0.4536 LR: 0.000010  \n",
      "EVAL: [0/16] Elapsed 0m 2s (remain 0m 39s) Loss: 0.6327 \n",
      "EVAL: [15/16] Elapsed 0m 9s (remain 0m 0s) Loss: 0.6383 \n"
     ]
    },
    {
     "name": "stderr",
     "output_type": "stream",
     "text": [
      "Epoch 10 - avg_train_loss: 0.6266  avg_val_loss: 0.6383  time: 110s\n",
      "Epoch 10 - Score: 17.34169192074644\n"
     ]
    },
    {
     "name": "stdout",
     "output_type": "stream",
     "text": [
      "Validation loss decreased (0.638380 --> 0.638275).  Saving model ...\n"
     ]
    },
    {
     "name": "stderr",
     "output_type": "stream",
     "text": [
      "========== fold: 8 result ==========\n",
      "Score: 17.34169\n",
      "========== fold: 9 training ==========\n"
     ]
    },
    {
     "name": "stdout",
     "output_type": "stream",
     "text": [
      "Epoch: [1][0/139] Elapsed 0m 3s (remain 7m 15s) Loss: 0.6844 Grad: 0.3536 LR: 0.000010  \n",
      "Epoch: [1][100/139] Elapsed 1m 13s (remain 0m 27s) Loss: 0.6538 Grad: 0.7857 LR: 0.000010  \n",
      "Epoch: [1][138/139] Elapsed 1m 40s (remain 0m 0s) Loss: 0.6523 Grad: 0.3699 LR: 0.000010  \n",
      "EVAL: [0/16] Elapsed 0m 2s (remain 0m 43s) Loss: 0.6439 \n",
      "EVAL: [15/16] Elapsed 0m 9s (remain 0m 0s) Loss: 0.6422 \n"
     ]
    },
    {
     "name": "stderr",
     "output_type": "stream",
     "text": [
      "Epoch 1 - avg_train_loss: 0.6523  avg_val_loss: 0.6422  time: 110s\n",
      "Epoch 1 - Score: 17.966261008405343\n"
     ]
    },
    {
     "name": "stdout",
     "output_type": "stream",
     "text": [
      "Validation loss decreased (inf --> 0.642201).  Saving model ...\n",
      "Epoch: [2][0/139] Elapsed 0m 2s (remain 6m 50s) Loss: 0.6526 Grad: 0.3532 LR: 0.000010  \n",
      "Epoch: [2][100/139] Elapsed 1m 13s (remain 0m 27s) Loss: 0.6392 Grad: 0.4295 LR: 0.000009  \n",
      "Epoch: [2][138/139] Elapsed 1m 39s (remain 0m 0s) Loss: 0.6388 Grad: 0.4087 LR: 0.000009  \n",
      "EVAL: [0/16] Elapsed 0m 2s (remain 0m 40s) Loss: 0.6371 \n",
      "EVAL: [15/16] Elapsed 0m 9s (remain 0m 0s) Loss: 0.6400 \n"
     ]
    },
    {
     "name": "stderr",
     "output_type": "stream",
     "text": [
      "Epoch 2 - avg_train_loss: 0.6388  avg_val_loss: 0.6400  time: 110s\n",
      "Epoch 2 - Score: 17.66257251197906\n"
     ]
    },
    {
     "name": "stdout",
     "output_type": "stream",
     "text": [
      "Validation loss decreased (0.642201 --> 0.640007).  Saving model ...\n",
      "Epoch: [3][0/139] Elapsed 0m 3s (remain 7m 41s) Loss: 0.6335 Grad: 0.5830 LR: 0.000009  \n",
      "Epoch: [3][100/139] Elapsed 1m 14s (remain 0m 27s) Loss: 0.6496 Grad: 0.8805 LR: 0.000008  \n",
      "Epoch: [3][138/139] Elapsed 1m 40s (remain 0m 0s) Loss: 0.6491 Grad: 0.5705 LR: 0.000008  \n",
      "EVAL: [0/16] Elapsed 0m 2s (remain 0m 39s) Loss: 0.6420 \n",
      "EVAL: [15/16] Elapsed 0m 9s (remain 0m 0s) Loss: 0.6396 \n"
     ]
    },
    {
     "name": "stderr",
     "output_type": "stream",
     "text": [
      "Epoch 3 - avg_train_loss: 0.6491  avg_val_loss: 0.6396  time: 111s\n",
      "Epoch 3 - Score: 17.589866425630284\n"
     ]
    },
    {
     "name": "stdout",
     "output_type": "stream",
     "text": [
      "Validation loss decreased (0.640007 --> 0.639567).  Saving model ...\n",
      "Epoch: [4][0/139] Elapsed 0m 3s (remain 7m 55s) Loss: 0.6524 Grad: 0.8665 LR: 0.000008  \n",
      "Epoch: [4][100/139] Elapsed 1m 14s (remain 0m 28s) Loss: 0.6463 Grad: 0.3955 LR: 0.000007  \n",
      "Epoch: [4][138/139] Elapsed 1m 41s (remain 0m 0s) Loss: 0.6470 Grad: 0.6781 LR: 0.000007  \n",
      "EVAL: [0/16] Elapsed 0m 2s (remain 0m 41s) Loss: 0.6411 \n",
      "EVAL: [15/16] Elapsed 0m 9s (remain 0m 0s) Loss: 0.6393 \n"
     ]
    },
    {
     "name": "stderr",
     "output_type": "stream",
     "text": [
      "Epoch 4 - avg_train_loss: 0.6470  avg_val_loss: 0.6393  time: 112s\n",
      "Epoch 4 - Score: 17.553539469546152\n"
     ]
    },
    {
     "name": "stdout",
     "output_type": "stream",
     "text": [
      "Validation loss decreased (0.639567 --> 0.639327).  Saving model ...\n",
      "Epoch: [5][0/139] Elapsed 0m 3s (remain 7m 39s) Loss: 0.6358 Grad: 0.5068 LR: 0.000007  \n",
      "Epoch: [5][100/139] Elapsed 1m 14s (remain 0m 27s) Loss: 0.6463 Grad: 0.3871 LR: 0.000006  \n",
      "Epoch: [5][138/139] Elapsed 1m 40s (remain 0m 0s) Loss: 0.6450 Grad: 0.5987 LR: 0.000005  \n",
      "EVAL: [0/16] Elapsed 0m 2s (remain 0m 41s) Loss: 0.6421 \n",
      "EVAL: [15/16] Elapsed 0m 9s (remain 0m 0s) Loss: 0.6400 \n"
     ]
    },
    {
     "name": "stderr",
     "output_type": "stream",
     "text": [
      "Epoch 5 - avg_train_loss: 0.6450  avg_val_loss: 0.6400  time: 111s\n",
      "Epoch 5 - Score: 17.625238584601725\n"
     ]
    },
    {
     "name": "stdout",
     "output_type": "stream",
     "text": [
      "EarlyStopping counter: 1 out of 10\n",
      "Epoch: [6][0/139] Elapsed 0m 3s (remain 8m 7s) Loss: 0.6472 Grad: 0.7821 LR: 0.000005  \n",
      "Epoch: [6][100/139] Elapsed 1m 14s (remain 0m 28s) Loss: 0.6421 Grad: 0.5404 LR: 0.000004  \n",
      "Epoch: [6][138/139] Elapsed 1m 41s (remain 0m 0s) Loss: 0.6426 Grad: 0.5383 LR: 0.000004  \n",
      "EVAL: [0/16] Elapsed 0m 2s (remain 0m 40s) Loss: 0.6428 \n",
      "EVAL: [15/16] Elapsed 0m 9s (remain 0m 0s) Loss: 0.6396 \n"
     ]
    },
    {
     "name": "stderr",
     "output_type": "stream",
     "text": [
      "Epoch 6 - avg_train_loss: 0.6426  avg_val_loss: 0.6396  time: 112s\n",
      "Epoch 6 - Score: 17.58011221108336\n"
     ]
    },
    {
     "name": "stdout",
     "output_type": "stream",
     "text": [
      "EarlyStopping counter: 2 out of 10\n",
      "Epoch: [7][0/139] Elapsed 0m 3s (remain 7m 55s) Loss: 0.6481 Grad: 0.5825 LR: 0.000004  \n",
      "Epoch: [7][100/139] Elapsed 1m 14s (remain 0m 27s) Loss: 0.6414 Grad: 0.4784 LR: 0.000003  \n",
      "Epoch: [7][138/139] Elapsed 1m 41s (remain 0m 0s) Loss: 0.6420 Grad: 0.5021 LR: 0.000003  \n",
      "EVAL: [0/16] Elapsed 0m 2s (remain 0m 42s) Loss: 0.6431 \n",
      "EVAL: [15/16] Elapsed 0m 9s (remain 0m 0s) Loss: 0.6405 \n"
     ]
    },
    {
     "name": "stderr",
     "output_type": "stream",
     "text": [
      "Epoch 7 - avg_train_loss: 0.6420  avg_val_loss: 0.6405  time: 111s\n",
      "Epoch 7 - Score: 17.688324518728358\n"
     ]
    },
    {
     "name": "stdout",
     "output_type": "stream",
     "text": [
      "EarlyStopping counter: 3 out of 10\n",
      "Epoch: [8][0/139] Elapsed 0m 3s (remain 7m 36s) Loss: 0.6426 Grad: 0.4586 LR: 0.000003  \n",
      "Epoch: [8][100/139] Elapsed 1m 14s (remain 0m 28s) Loss: 0.6397 Grad: 0.5167 LR: 0.000002  \n",
      "Epoch: [8][138/139] Elapsed 1m 41s (remain 0m 0s) Loss: 0.6411 Grad: 0.8771 LR: 0.000002  \n",
      "EVAL: [0/16] Elapsed 0m 2s (remain 0m 43s) Loss: 0.6407 \n",
      "EVAL: [15/16] Elapsed 0m 9s (remain 0m 0s) Loss: 0.6400 \n"
     ]
    },
    {
     "name": "stderr",
     "output_type": "stream",
     "text": [
      "Epoch 8 - avg_train_loss: 0.6411  avg_val_loss: 0.6400  time: 112s\n",
      "Epoch 8 - Score: 17.648876261467816\n"
     ]
    },
    {
     "name": "stdout",
     "output_type": "stream",
     "text": [
      "EarlyStopping counter: 4 out of 10\n",
      "Epoch: [9][0/139] Elapsed 0m 2s (remain 6m 53s) Loss: 0.6205 Grad: 0.5694 LR: 0.000002  \n",
      "Epoch: [9][100/139] Elapsed 1m 13s (remain 0m 27s) Loss: 0.6279 Grad: 0.3918 LR: 0.000001  \n",
      "Epoch: [9][138/139] Elapsed 1m 40s (remain 0m 0s) Loss: 0.6274 Grad: 0.2991 LR: 0.000001  \n",
      "EVAL: [0/16] Elapsed 0m 2s (remain 0m 40s) Loss: 0.6424 \n",
      "EVAL: [15/16] Elapsed 0m 9s (remain 0m 0s) Loss: 0.6402 \n"
     ]
    },
    {
     "name": "stderr",
     "output_type": "stream",
     "text": [
      "Epoch 9 - avg_train_loss: 0.6274  avg_val_loss: 0.6402  time: 110s\n",
      "Epoch 9 - Score: 17.643427878355595\n"
     ]
    },
    {
     "name": "stdout",
     "output_type": "stream",
     "text": [
      "EarlyStopping counter: 5 out of 10\n",
      "Epoch: [10][0/139] Elapsed 0m 3s (remain 7m 22s) Loss: 0.6138 Grad: 0.4004 LR: 0.000001  \n",
      "Epoch: [10][100/139] Elapsed 1m 13s (remain 0m 27s) Loss: 0.6248 Grad: 0.5852 LR: 0.000001  \n",
      "Epoch: [10][138/139] Elapsed 1m 40s (remain 0m 0s) Loss: 0.6256 Grad: 0.4791 LR: 0.000010  \n",
      "EVAL: [0/16] Elapsed 0m 2s (remain 0m 38s) Loss: 0.6424 \n",
      "EVAL: [15/16] Elapsed 0m 9s (remain 0m 0s) Loss: 0.6405 \n"
     ]
    },
    {
     "name": "stderr",
     "output_type": "stream",
     "text": [
      "Epoch 10 - avg_train_loss: 0.6256  avg_val_loss: 0.6405  time: 110s\n",
      "Epoch 10 - Score: 17.677793142476272\n",
      "========== fold: 9 result ==========\n",
      "Score: 17.55354\n",
      "========== CV ==========\n",
      "Score: 17.57751\n"
     ]
    },
    {
     "name": "stdout",
     "output_type": "stream",
     "text": [
      "EarlyStopping counter: 6 out of 10\n"
     ]
    },
    {
     "name": "stderr",
     "output_type": "stream",
     "text": [
      "\u001b[34m\u001b[1mwandb\u001b[0m: Adding directory to artifact (./models)... Done. 13.0s\n"
     ]
    }
   ],
   "source": [
    "main()"
   ]
  },
  {
   "cell_type": "code",
   "execution_count": 44,
   "metadata": {
    "id": "8ijJJUa2d2Lx"
   },
   "outputs": [
    {
     "data": {
      "text/html": [
       "<br/>Waiting for W&B process to finish, PID 685014... <strong style=\"color:green\">(success).</strong>"
      ],
      "text/plain": [
       "<IPython.core.display.HTML object>"
      ]
     },
     "metadata": {},
     "output_type": "display_data"
    },
    {
     "data": {
      "application/vnd.jupyter.widget-view+json": {
       "model_id": "",
       "version_major": 2,
       "version_minor": 0
      },
      "text/plain": [
       "VBox(children=(Label(value=' 7585.95MB of 7585.95MB uploaded (0.00MB deduped)\\r'), FloatProgress(value=1.0, ma…"
      ]
     },
     "metadata": {},
     "output_type": "display_data"
    },
    {
     "data": {
      "text/html": [
       "<style>\n",
       "    table.wandb td:nth-child(1) { padding: 0 10px; text-align: right }\n",
       "    .wandb-row { display: flex; flex-direction: row; flex-wrap: wrap; width: 100% }\n",
       "    .wandb-col { display: flex; flex-direction: column; flex-basis: 100%; flex: 1; padding: 10px; }\n",
       "    </style>\n",
       "<div class=\"wandb-row\"><div class=\"wandb-col\">\n",
       "<h3>Run history:</h3><br/><table class=\"wandb\"><tr><td>Score</td><td>▁</td></tr><tr><td>Score_fold0</td><td>▁</td></tr><tr><td>Score_fold1</td><td>▁</td></tr><tr><td>Score_fold2</td><td>▁</td></tr><tr><td>Score_fold3</td><td>▁</td></tr><tr><td>Score_fold4</td><td>▁</td></tr><tr><td>Score_fold5</td><td>▁</td></tr><tr><td>Score_fold6</td><td>▁</td></tr><tr><td>Score_fold7</td><td>▁</td></tr><tr><td>Score_fold8</td><td>▁</td></tr><tr><td>Score_fold9</td><td>▁</td></tr><tr><td>epoch</td><td>▁▃▅▆▁▃▅▆▁▃▅▆▁▃▅▇▁▃▅▇▁▃▅▇▁▃▆▇▂▃▆▇▂▃▆▇▂▃▆█</td></tr><tr><td>loss</td><td>▁</td></tr><tr><td>loss/train_fold0</td><td>█▄▇▇▆▅▅▅▁▁</td></tr><tr><td>loss/train_fold1</td><td>█▄▇▇▆▆▅▅▁▁</td></tr><tr><td>loss/train_fold2</td><td>█▄▇▇▆▆▅▅▁▁</td></tr><tr><td>loss/train_fold3</td><td>█▄▇▇▆▆▅▅▁▁</td></tr><tr><td>loss/train_fold4</td><td>█▄▇▆▇▅▅▅▁▁</td></tr><tr><td>loss/train_fold5</td><td>█▄▇▆▆▅▅▅▁▁</td></tr><tr><td>loss/train_fold6</td><td>█▄▇▆▆▅▅▅▁▁</td></tr><tr><td>loss/train_fold7</td><td>█▄▇▇▆▅▅▅▁▁</td></tr><tr><td>loss/train_fold8</td><td>█▅▇▇▆▅▅▅▁▁</td></tr><tr><td>loss/train_fold9</td><td>█▄▇▇▆▅▅▅▁▁</td></tr><tr><td>loss/valid_fold0</td><td>█▂▆▁▄▄▂▁▁▂</td></tr><tr><td>loss/valid_fold1</td><td>█▃▂▁▁▁▂▁▁▂</td></tr><tr><td>loss/valid_fold2</td><td>▄█▁▂▂▃▃▃▃▃</td></tr><tr><td>loss/valid_fold3</td><td>█▄▃▁▂▂▃▃▂▂</td></tr><tr><td>loss/valid_fold4</td><td>█▂▂▁▅▄▅▄▄▄</td></tr><tr><td>loss/valid_fold5</td><td>█▄▂▃▁▂▂▁▁▁</td></tr><tr><td>loss/valid_fold6</td><td>█▃▂▂▂▂▂▂▂▁</td></tr><tr><td>loss/valid_fold7</td><td>█▂▂▂▂▃▃▂▁▂</td></tr><tr><td>loss/valid_fold8</td><td>█▄▃▂▂▃▄▂▁▁</td></tr><tr><td>loss/valid_fold9</td><td>█▃▂▁▃▂▄▃▃▄</td></tr><tr><td>score/fold0</td><td>█▂▆▁▄▄▂▁▁▂</td></tr><tr><td>score/fold1</td><td>█▃▂▁▁▁▂▁▁▂</td></tr><tr><td>score/fold2</td><td>▄█▁▂▂▃▃▃▃▃</td></tr><tr><td>score/fold3</td><td>█▄▃▁▂▂▃▃▂▂</td></tr><tr><td>score/fold4</td><td>█▂▂▁▄▄▅▄▄▄</td></tr><tr><td>score/fold5</td><td>█▄▃▃▁▂▂▁▁▁</td></tr><tr><td>score/fold6</td><td>█▃▂▂▂▂▂▂▂▁</td></tr><tr><td>score/fold7</td><td>█▂▃▂▂▃▃▂▁▂</td></tr><tr><td>score/fold8</td><td>█▄▃▂▃▃▄▂▁▁</td></tr><tr><td>score/fold9</td><td>█▃▂▁▂▁▃▃▃▃</td></tr></table><br/></div><div class=\"wandb-col\">\n",
       "<h3>Run summary:</h3><br/><table class=\"wandb\"><tr><td>Score</td><td>17.57751</td></tr><tr><td>Score_fold0</td><td>17.50897</td></tr><tr><td>Score_fold1</td><td>17.33448</td></tr><tr><td>Score_fold2</td><td>18.18311</td></tr><tr><td>Score_fold3</td><td>16.94871</td></tr><tr><td>Score_fold4</td><td>18.10233</td></tr><tr><td>Score_fold5</td><td>17.16303</td></tr><tr><td>Score_fold6</td><td>17.39173</td></tr><tr><td>Score_fold7</td><td>18.19811</td></tr><tr><td>Score_fold8</td><td>17.34169</td></tr><tr><td>Score_fold9</td><td>17.55354</td></tr><tr><td>epoch</td><td>10</td></tr><tr><td>loss</td><td>0.64015</td></tr><tr><td>loss/train_fold0</td><td>0.62592</td></tr><tr><td>loss/train_fold1</td><td>0.62648</td></tr><tr><td>loss/train_fold2</td><td>0.62614</td></tr><tr><td>loss/train_fold3</td><td>0.62654</td></tr><tr><td>loss/train_fold4</td><td>0.62514</td></tr><tr><td>loss/train_fold5</td><td>0.62632</td></tr><tr><td>loss/train_fold6</td><td>0.62632</td></tr><tr><td>loss/train_fold7</td><td>0.62572</td></tr><tr><td>loss/train_fold8</td><td>0.62663</td></tr><tr><td>loss/train_fold9</td><td>0.62556</td></tr><tr><td>loss/valid_fold0</td><td>0.6418</td></tr><tr><td>loss/valid_fold1</td><td>0.63807</td></tr><tr><td>loss/valid_fold2</td><td>0.64493</td></tr><tr><td>loss/valid_fold3</td><td>0.63632</td></tr><tr><td>loss/valid_fold4</td><td>0.64402</td></tr><tr><td>loss/valid_fold5</td><td>0.63855</td></tr><tr><td>loss/valid_fold6</td><td>0.64013</td></tr><tr><td>loss/valid_fold7</td><td>0.64503</td></tr><tr><td>loss/valid_fold8</td><td>0.63827</td></tr><tr><td>loss/valid_fold9</td><td>0.6405</td></tr><tr><td>score/fold0</td><td>17.56914</td></tr><tr><td>score/fold1</td><td>17.37788</td></tr><tr><td>score/fold2</td><td>18.36019</td></tr><tr><td>score/fold3</td><td>17.02275</td></tr><tr><td>score/fold4</td><td>18.20277</td></tr><tr><td>score/fold5</td><td>17.19209</td></tr><tr><td>score/fold6</td><td>17.39173</td></tr><tr><td>score/fold7</td><td>18.26203</td></tr><tr><td>score/fold8</td><td>17.34169</td></tr><tr><td>score/fold9</td><td>17.67779</td></tr></table>\n",
       "</div></div>\n",
       "Synced 7 W&B file(s), 1 media file(s), 11 artifact file(s) and 2 other file(s)\n",
       "<br/>Synced <strong style=\"color:#cdcd00\">lyric-snowflake-33</strong>: <a href=\"https://wandb.ai/imokuri/petfinder2/runs/tzd6gqud\" target=\"_blank\">https://wandb.ai/imokuri/petfinder2/runs/tzd6gqud</a><br/>\n",
       "Find logs at: <code>./wandb/run-20211006_070902-tzd6gqud/logs</code><br/>\n"
      ],
      "text/plain": [
       "<IPython.core.display.HTML object>"
      ]
     },
     "metadata": {},
     "output_type": "display_data"
    }
   ],
   "source": [
    "wandb.finish()"
   ]
  }
 ],
 "metadata": {
  "accelerator": "GPU",
  "colab": {
   "collapsed_sections": [],
   "machine_shape": "hm",
   "name": "petfinder2.ipynb",
   "provenance": [],
   "toc_visible": true
  },
  "kernelspec": {
   "display_name": "py38-all-in-one",
   "language": "python",
   "name": "py38-all-in-one"
  },
  "language_info": {
   "codemirror_mode": {
    "name": "ipython",
    "version": 3
   },
   "file_extension": ".py",
   "mimetype": "text/x-python",
   "name": "python",
   "nbconvert_exporter": "python",
   "pygments_lexer": "ipython3",
   "version": "3.9.7"
  }
 },
 "nbformat": 4,
 "nbformat_minor": 4
}
